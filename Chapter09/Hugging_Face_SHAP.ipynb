{
  "cells": [
    {
      "cell_type": "markdown",
      "metadata": {},
      "source": [
        "#### Tuesday, March 26, 2024\n",
        "\n",
        "mamba activate t4nlpacv\n",
        "\n",
        "This all runs in one pass."
      ]
    },
    {
      "cell_type": "markdown",
      "metadata": {
        "id": "FBOnkCFDUkfn"
      },
      "source": [
        "#Interpreting Hugging Face transformers with SHAP\n",
        "\n",
        "Copyright 2023, Denis Rothman, MIT License"
      ]
    },
    {
      "cell_type": "markdown",
      "metadata": {
        "id": "jU3vsxcaUykG"
      },
      "source": [
        "# Introducing Shap"
      ]
    },
    {
      "cell_type": "code",
      "execution_count": 1,
      "metadata": {},
      "outputs": [],
      "source": [
        "#SHAP with an Iterator\n",
        "import itertools"
      ]
    },
    {
      "cell_type": "code",
      "execution_count": 2,
      "metadata": {
        "colab": {
          "base_uri": "https://localhost:8080/"
        },
        "id": "TQpHkx_SZPQM",
        "outputId": "b185b700-3b16-482d-9113-c66a4ea25651"
      },
      "outputs": [
        {
          "name": "stdout",
          "output_type": "stream",
          "text": [
            "Processed 5040 permutations\n",
            "The Shapley value of 'I' is 1764.0000000000798\n",
            "Processed 5040 permutations\n",
            "The Shapley value of 'love' is 4409.99999999998\n",
            "Processed 5040 permutations\n",
            "The Shapley value of 'playing' is 4283.999999999768\n",
            "Processed 5040 permutations\n",
            "The Shapley value of 'chess' is 3150.000000000016\n",
            "Processed 5040 permutations\n",
            "The Shapley value of 'with' is 1092.000000000074\n",
            "Processed 5040 permutations\n",
            "The Shapley value of 'my' is 2099.999999999982\n",
            "Processed 5040 permutations\n",
            "The Shapley value of 'friends' is 2604.0000000001683\n"
          ]
        }
      ],
      "source": [
        "# Define the base scores of the words\n",
        "words = {'I': 0.2, 'love': 0.6, 'playing': 0.5, 'chess': 0.4, 'with': 0.1, 'my': 0.3, 'friends': 0.4}\n",
        "\n",
        "# Define the bonus scores for certain combinations of words\n",
        "bonus = {('I', 'love'): 0.3, ('love', 'playing'): 0.25, ('playing', 'chess'): 0.45, ('with', 'my', 'friends'): 0.35}\n",
        "\n",
        "# Function to calculate the total score of a coalition\n",
        "def total_score(coalition):\n",
        "    score = sum(words[word] for word in coalition)\n",
        "    for b in bonus.keys():\n",
        "        if all(word in coalition for word in b):\n",
        "            score += bonus[b]\n",
        "    return score\n",
        "\n",
        "# Function to calculate the Shapley value of a word\n",
        "def shapley_value(word):\n",
        "    N = len(words)\n",
        "    permutations = list(itertools.permutations(words))\n",
        "    marginal_contributions = []\n",
        "    counter = 0  # Counter initialization\n",
        "    for permutation in permutations:\n",
        "        index = permutation.index(word)\n",
        "        coalition_without_word = permutation[:index]\n",
        "        coalition_with_word = permutation[:index+1]\n",
        "        marginal_contribution = total_score(coalition_with_word) - total_score(coalition_without_word)\n",
        "        marginal_contributions.append(marginal_contribution)\n",
        "        counter += 1  # Increment counter\n",
        "    print(f\"Processed {counter} permutations\")  # Print counter\n",
        "    return sum(marginal_contributions)\n",
        "\n",
        "# Calculate the Shapley value of each word\n",
        "for word in words:\n",
        "    print(f\"The Shapley value of '{word}' is {shapley_value(word)}\")"
      ]
    },
    {
      "cell_type": "markdown",
      "metadata": {
        "id": "yRXY0RKrhT_x"
      },
      "source": [
        "# Explaining Hugging Face outputs with SHAP"
      ]
    },
    {
      "cell_type": "markdown",
      "metadata": {
        "id": "UJcl8AHeigjI"
      },
      "source": [
        "Install packages"
      ]
    },
    {
      "cell_type": "code",
      "execution_count": 3,
      "metadata": {
        "id": "aOt4VZzyhaJm"
      },
      "outputs": [],
      "source": [
        "# #Hugging Face Transformers\n",
        "# !pip install transformers\n",
        "# #Transformer building blocks\n",
        "# !pip install xformers\n",
        "# #SHAP\n",
        "# !pip install shap"
      ]
    },
    {
      "cell_type": "code",
      "execution_count": 4,
      "metadata": {
        "id": "_9xmSzp3iwMQ"
      },
      "outputs": [],
      "source": [
        "#@title Enter your sentence here:\n",
        "sentence = 'SHAP is a useful explainer' #@param {type:\"string\"}"
      ]
    },
    {
      "cell_type": "markdown",
      "metadata": {
        "id": "LhEbE1ATi0M-"
      },
      "source": [
        "Sentiment Analysis"
      ]
    },
    {
      "cell_type": "code",
      "execution_count": 5,
      "metadata": {
        "colab": {
          "base_uri": "https://localhost:8080/"
        },
        "id": "uLoFcWrT5ioj",
        "outputId": "2fdcca69-b516-4470-82ac-ea87e15b4d20"
      },
      "outputs": [
        {
          "name": "stderr",
          "output_type": "stream",
          "text": [
            "/home/rob/miniforge3/envs/t4nlpacv/lib/python3.11/site-packages/transformers/utils/generic.py:441: UserWarning: torch.utils._pytree._register_pytree_node is deprecated. Please use torch.utils._pytree.register_pytree_node instead.\n",
            "  _torch_pytree._register_pytree_node(\n",
            "/home/rob/miniforge3/envs/t4nlpacv/lib/python3.11/site-packages/transformers/utils/generic.py:309: UserWarning: torch.utils._pytree._register_pytree_node is deprecated. Please use torch.utils._pytree.register_pytree_node instead.\n",
            "  _torch_pytree._register_pytree_node(\n",
            "/home/rob/miniforge3/envs/t4nlpacv/lib/python3.11/site-packages/transformers/utils/generic.py:309: UserWarning: torch.utils._pytree._register_pytree_node is deprecated. Please use torch.utils._pytree.register_pytree_node instead.\n",
            "  _torch_pytree._register_pytree_node(\n"
          ]
        },
        {
          "name": "stdout",
          "output_type": "stream",
          "text": [
            "{'label': 'POSITIVE', 'score': 0.9869391918182373}\n"
          ]
        }
      ],
      "source": [
        "import transformers\n",
        "\n",
        "# load a transformers pipeline model\n",
        "model = transformers.pipeline('sentiment-analysis', model='distilbert-base-uncased-finetuned-sst-2-english')\n",
        "\n",
        "# analyze the sentiment of the input sentence\n",
        "result = model(sentence)[0]\n",
        "print(result)"
      ]
    },
    {
      "cell_type": "code",
      "execution_count": 6,
      "metadata": {
        "colab": {
          "base_uri": "https://localhost:8080/",
          "height": 118
        },
        "id": "l4LYqWlgi-9i",
        "outputId": "98dec59c-d474-403b-d917-f4549eb0c456"
      },
      "outputs": [
        {
          "name": "stderr",
          "output_type": "stream",
          "text": [
            "/home/rob/miniforge3/envs/t4nlpacv/lib/python3.11/site-packages/transformers/utils/generic.py:309: UserWarning: torch.utils._pytree._register_pytree_node is deprecated. Please use torch.utils._pytree.register_pytree_node instead.\n",
            "  _torch_pytree._register_pytree_node(\n"
          ]
        },
        {
          "data": {
            "text/html": [
              "<svg width=\"100%\" height=\"80px\"><line x1=\"0\" y1=\"33\" x2=\"100%\" y2=\"33\" style=\"stroke:rgb(150,150,150);stroke-width:1\" /><line x1=\"50.36925435803661%\" y1=\"33\" x2=\"50.36925435803661%\" y2=\"37\" style=\"stroke:rgb(150,150,150);stroke-width:1\" /><text x=\"50.36925435803661%\" y=\"27\" font-size=\"12px\" fill=\"rgb(120,120,120)\" dominant-baseline=\"bottom\" text-anchor=\"middle\">0.5</text><line x1=\"33.40607862109481%\" y1=\"33\" x2=\"33.40607862109481%\" y2=\"37\" style=\"stroke:rgb(150,150,150);stroke-width:1\" /><text x=\"33.40607862109481%\" y=\"27\" font-size=\"12px\" fill=\"rgb(120,120,120)\" dominant-baseline=\"bottom\" text-anchor=\"middle\">0.2</text><line x1=\"16.44290288415299%\" y1=\"33\" x2=\"16.44290288415299%\" y2=\"37\" style=\"stroke:rgb(150,150,150);stroke-width:1\" /><text x=\"16.44290288415299%\" y=\"27\" font-size=\"12px\" fill=\"rgb(120,120,120)\" dominant-baseline=\"bottom\" text-anchor=\"middle\">-0.1</text><line x1=\"67.33243009497842%\" y1=\"33\" x2=\"67.33243009497842%\" y2=\"37\" style=\"stroke:rgb(150,150,150);stroke-width:1\" /><text x=\"67.33243009497842%\" y=\"27\" font-size=\"12px\" fill=\"rgb(120,120,120)\" dominant-baseline=\"bottom\" text-anchor=\"middle\">0.8</text><line x1=\"84.29560583192026%\" y1=\"33\" x2=\"84.29560583192026%\" y2=\"37\" style=\"stroke:rgb(150,150,150);stroke-width:1\" /><text x=\"84.29560583192026%\" y=\"27\" font-size=\"12px\" fill=\"rgb(120,120,120)\" dominant-baseline=\"bottom\" text-anchor=\"middle\">1.1</text><line x1=\"22.097294796466926%\" y1=\"33\" x2=\"22.097294796466926%\" y2=\"37\" style=\"stroke:rgb(150,150,150);stroke-width:1\" /><text x=\"22.097294796466926%\" y=\"27\" font-size=\"13px\" style=\"stroke:#ffffff;stroke-width:8px;\" fill=\"rgb(255,255,255)\" dominant-baseline=\"bottom\" text-anchor=\"middle\">0</text><text x=\"22.097294796466926%\" y=\"27\" font-size=\"12px\" fill=\"rgb(120,120,120)\" dominant-baseline=\"bottom\" text-anchor=\"middle\">0</text><text x=\"22.097294796466926%\" y=\"10\" font-size=\"12px\" fill=\"rgb(120,120,120)\" dominant-baseline=\"bottom\" text-anchor=\"middle\">base value</text><line x1=\"77.90270463809388%\" y1=\"33\" x2=\"77.90270463809388%\" y2=\"37\" style=\"stroke:rgb(150,150,150);stroke-width:1\" /><text x=\"77.90270463809388%\" y=\"27\" font-size=\"13px\" style=\"stroke:#ffffff;stroke-width:8px;\" font-weight=\"bold\" fill=\"rgb(255,255,255)\" dominant-baseline=\"bottom\" text-anchor=\"middle\">0.986939</text><text x=\"77.90270463809388%\" y=\"27\" font-size=\"13px\" font-weight=\"bold\" fill=\"rgb(0,0,0)\" dominant-baseline=\"bottom\" text-anchor=\"middle\">0.986939</text><text x=\"77.90270463809388%\" y=\"10\" font-size=\"12px\" fill=\"rgb(120,120,120)\" dominant-baseline=\"bottom\" text-anchor=\"middle\">f<tspan baseline-shift=\"sub\" font-size=\"8px\">POSITIVE</tspan>(inputs)</text><rect x=\"8.3333332862134%\" width=\"69.56937135188048%\" y=\"40\" height=\"18\" style=\"fill:rgb(255.0, 0.0, 81.08083606031792); stroke-width:0; stroke:rgb(0,0,0)\" /><line x1=\"49.484803938862264%\" x2=\"77.90270463809388%\" y1=\"60\" y2=\"60\" id=\"_fb_sphomkfhoijtbhhgjddn_ind_5\" style=\"stroke:rgb(255.0, 0.0, 81.08083606031792);stroke-width:2; opacity: 0\"/><text x=\"63.693754288478075%\" y=\"71\" font-size=\"12px\" id=\"_fs_sphomkfhoijtbhhgjddn_ind_5\" fill=\"rgb(255.0, 0.0, 81.08083606031792)\" style=\"opacity: 0\" dominant-baseline=\"middle\" text-anchor=\"middle\">0.503</text><svg x=\"49.484803938862264%\" y=\"40\" height=\"20\" width=\"28.417900699231616%\">  <svg x=\"0\" y=\"0\" width=\"100%\" height=\"100%\">    <text x=\"50%\" y=\"9\" font-size=\"12px\" fill=\"rgb(255,255,255)\" dominant-baseline=\"middle\" text-anchor=\"middle\">useful</text>  </svg></svg><line x1=\"25.3495701250382%\" x2=\"49.484803938862264%\" y1=\"60\" y2=\"60\" id=\"_fb_sphomkfhoijtbhhgjddn_ind_6\" style=\"stroke:rgb(255.0, 0.0, 81.08083606031792);stroke-width:2; opacity: 0\"/><text x=\"37.417187031950235%\" y=\"71\" font-size=\"12px\" id=\"_fs_sphomkfhoijtbhhgjddn_ind_6\" fill=\"rgb(255.0, 0.0, 81.08083606031792)\" style=\"opacity: 0\" dominant-baseline=\"middle\" text-anchor=\"middle\">0.427</text><svg x=\"25.3495701250382%\" y=\"40\" height=\"20\" width=\"24.135233813824065%\">  <svg x=\"0\" y=\"0\" width=\"100%\" height=\"100%\">    <text x=\"50%\" y=\"9\" font-size=\"12px\" fill=\"rgb(255,255,255)\" dominant-baseline=\"middle\" text-anchor=\"middle\">explain</text>  </svg></svg><line x1=\"16.706149068100434%\" x2=\"25.3495701250382%\" y1=\"60\" y2=\"60\" id=\"_fb_sphomkfhoijtbhhgjddn_ind_4\" style=\"stroke:rgb(255.0, 0.0, 81.08083606031792);stroke-width:2; opacity: 0\"/><text x=\"21.027859596569314%\" y=\"71\" font-size=\"12px\" id=\"_fs_sphomkfhoijtbhhgjddn_ind_4\" fill=\"rgb(255.0, 0.0, 81.08083606031792)\" style=\"opacity: 0\" dominant-baseline=\"middle\" text-anchor=\"middle\">0.153</text><svg x=\"16.706149068100434%\" y=\"40\" height=\"20\" width=\"8.643421056937765%\">  <svg x=\"0\" y=\"0\" width=\"100%\" height=\"100%\">    <text x=\"50%\" y=\"9\" font-size=\"12px\" fill=\"rgb(255,255,255)\" dominant-baseline=\"middle\" text-anchor=\"middle\">a</text>  </svg></svg><line x1=\"8.3333332862134%\" x2=\"16.706149068100434%\" y1=\"60\" y2=\"60\" id=\"_fb_sphomkfhoijtbhhgjddn_ind_3\" style=\"stroke:rgb(255.0, 0.0, 81.08083606031792);stroke-width:2; opacity: 0\"/><text x=\"12.519741177156916%\" y=\"71\" font-size=\"12px\" id=\"_fs_sphomkfhoijtbhhgjddn_ind_3\" fill=\"rgb(255.0, 0.0, 81.08083606031792)\" style=\"opacity: 0\" dominant-baseline=\"middle\" text-anchor=\"middle\">0.148</text><svg x=\"8.3333332862134%\" y=\"40\" height=\"20\" width=\"8.372815781887034%\">  <svg x=\"0\" y=\"0\" width=\"100%\" height=\"100%\">    <text x=\"50%\" y=\"9\" font-size=\"12px\" fill=\"rgb(255,255,255)\" dominant-baseline=\"middle\" text-anchor=\"middle\">is</text>  </svg></svg><g transform=\"translate(0,0)\">  <svg x=\"49.484803938862264%\" y=\"40\" height=\"18\" overflow=\"visible\" width=\"30\">    <path d=\"M 0 -9 l 6 18 L 0 25\" fill=\"none\" style=\"stroke:rgb(255.0, 0.0, 81.08083606031792);stroke-width:2\" />  </svg></g><g transform=\"translate(2,0)\">  <svg x=\"49.484803938862264%\" y=\"40\" height=\"18\" overflow=\"visible\" width=\"30\">    <path d=\"M 0 -9 l 6 18 L 0 25\" fill=\"none\" style=\"stroke:rgb(255.0, 0.0, 81.08083606031792);stroke-width:2\" />  </svg></g><g transform=\"translate(4,0)\">  <svg x=\"49.484803938862264%\" y=\"40\" height=\"18\" overflow=\"visible\" width=\"30\">    <path d=\"M 0 -9 l 6 18 L 0 25\" fill=\"none\" style=\"stroke:rgb(255.0, 0.0, 81.08083606031792);stroke-width:2\" />  </svg></g><g transform=\"translate(6,0)\">  <svg x=\"49.484803938862264%\" y=\"40\" height=\"18\" overflow=\"visible\" width=\"30\">    <path d=\"M 0 -9 l 6 18 L 0 25\" fill=\"none\" style=\"stroke:rgb(255.0, 0.0, 81.08083606031792);stroke-width:2\" />  </svg></g><g transform=\"translate(-8,0)\">  <svg x=\"49.484803938862264%\" y=\"40\" height=\"18\" overflow=\"visible\" width=\"30\">    <path d=\"M 0 -9 l 6 18 L 0 25\" fill=\"none\" style=\"stroke:rgb(255.0, 0.0, 81.08083606031792);stroke-width:2\" />  </svg></g><g transform=\"translate(-6,0)\">  <svg x=\"49.484803938862264%\" y=\"40\" height=\"18\" overflow=\"visible\" width=\"30\">    <path d=\"M 0 -9 l 6 18 L 0 25\" fill=\"none\" style=\"stroke:rgb(255.0, 0.0, 81.08083606031792);stroke-width:2\" />  </svg></g><g transform=\"translate(-4,0)\">  <svg x=\"49.484803938862264%\" y=\"40\" height=\"18\" overflow=\"visible\" width=\"30\">    <path d=\"M 0 -9 l 6 18 L 0 25\" fill=\"none\" style=\"stroke:rgb(255.0, 0.0, 81.08083606031792);stroke-width:2\" />  </svg></g><g transform=\"translate(-2,0)\">  <svg x=\"49.484803938862264%\" y=\"40\" height=\"18\" overflow=\"visible\" width=\"30\">    <path d=\"M 0 -9 l 6 18 L 0 25\" fill=\"none\" style=\"stroke:rgb(255.0, 0.0, 81.08083606031792);stroke-width:2\" />  </svg></g><g transform=\"translate(0,0)\">  <svg x=\"25.3495701250382%\" y=\"40\" height=\"18\" overflow=\"visible\" width=\"30\">    <path d=\"M 0 -9 l 6 18 L 0 25\" fill=\"none\" style=\"stroke:rgb(255.0, 0.0, 81.08083606031792);stroke-width:2\" />  </svg></g><g transform=\"translate(2,0)\">  <svg x=\"25.3495701250382%\" y=\"40\" height=\"18\" overflow=\"visible\" width=\"30\">    <path d=\"M 0 -9 l 6 18 L 0 25\" fill=\"none\" style=\"stroke:rgb(255.0, 0.0, 81.08083606031792);stroke-width:2\" />  </svg></g><g transform=\"translate(4,0)\">  <svg x=\"25.3495701250382%\" y=\"40\" height=\"18\" overflow=\"visible\" width=\"30\">    <path d=\"M 0 -9 l 6 18 L 0 25\" fill=\"none\" style=\"stroke:rgb(255.0, 0.0, 81.08083606031792);stroke-width:2\" />  </svg></g><g transform=\"translate(6,0)\">  <svg x=\"25.3495701250382%\" y=\"40\" height=\"18\" overflow=\"visible\" width=\"30\">    <path d=\"M 0 -9 l 6 18 L 0 25\" fill=\"none\" style=\"stroke:rgb(255.0, 0.0, 81.08083606031792);stroke-width:2\" />  </svg></g><g transform=\"translate(-8,0)\">  <svg x=\"25.3495701250382%\" y=\"40\" height=\"18\" overflow=\"visible\" width=\"30\">    <path d=\"M 0 -9 l 6 18 L 0 25\" fill=\"none\" style=\"stroke:rgb(255.0, 0.0, 81.08083606031792);stroke-width:2\" />  </svg></g><g transform=\"translate(-6,0)\">  <svg x=\"25.3495701250382%\" y=\"40\" height=\"18\" overflow=\"visible\" width=\"30\">    <path d=\"M 0 -9 l 6 18 L 0 25\" fill=\"none\" style=\"stroke:rgb(255.0, 0.0, 81.08083606031792);stroke-width:2\" />  </svg></g><g transform=\"translate(-4,0)\">  <svg x=\"25.3495701250382%\" y=\"40\" height=\"18\" overflow=\"visible\" width=\"30\">    <path d=\"M 0 -9 l 6 18 L 0 25\" fill=\"none\" style=\"stroke:rgb(255.0, 0.0, 81.08083606031792);stroke-width:2\" />  </svg></g><g transform=\"translate(-2,0)\">  <svg x=\"25.3495701250382%\" y=\"40\" height=\"18\" overflow=\"visible\" width=\"30\">    <path d=\"M 0 -9 l 6 18 L 0 25\" fill=\"none\" style=\"stroke:rgb(255.0, 0.0, 81.08083606031792);stroke-width:2\" />  </svg></g><g transform=\"translate(0,0)\">  <svg x=\"16.706149068100434%\" y=\"40\" height=\"18\" overflow=\"visible\" width=\"30\">    <path d=\"M 0 -9 l 6 18 L 0 25\" fill=\"none\" style=\"stroke:rgb(255.0, 0.0, 81.08083606031792);stroke-width:2\" />  </svg></g><g transform=\"translate(2,0)\">  <svg x=\"16.706149068100434%\" y=\"40\" height=\"18\" overflow=\"visible\" width=\"30\">    <path d=\"M 0 -9 l 6 18 L 0 25\" fill=\"none\" style=\"stroke:rgb(255.0, 0.0, 81.08083606031792);stroke-width:2\" />  </svg></g><g transform=\"translate(4,0)\">  <svg x=\"16.706149068100434%\" y=\"40\" height=\"18\" overflow=\"visible\" width=\"30\">    <path d=\"M 0 -9 l 6 18 L 0 25\" fill=\"none\" style=\"stroke:rgb(255.0, 0.0, 81.08083606031792);stroke-width:2\" />  </svg></g><g transform=\"translate(6,0)\">  <svg x=\"16.706149068100434%\" y=\"40\" height=\"18\" overflow=\"visible\" width=\"30\">    <path d=\"M 0 -9 l 6 18 L 0 25\" fill=\"none\" style=\"stroke:rgb(255.0, 0.0, 81.08083606031792);stroke-width:2\" />  </svg></g><g transform=\"translate(-8,0)\">  <svg x=\"16.706149068100434%\" y=\"40\" height=\"18\" overflow=\"visible\" width=\"30\">    <path d=\"M 0 -9 l 6 18 L 0 25\" fill=\"none\" style=\"stroke:rgb(255.0, 0.0, 81.08083606031792);stroke-width:2\" />  </svg></g><g transform=\"translate(-6,0)\">  <svg x=\"16.706149068100434%\" y=\"40\" height=\"18\" overflow=\"visible\" width=\"30\">    <path d=\"M 0 -9 l 6 18 L 0 25\" fill=\"none\" style=\"stroke:rgb(255.0, 0.0, 81.08083606031792);stroke-width:2\" />  </svg></g><g transform=\"translate(-4,0)\">  <svg x=\"16.706149068100434%\" y=\"40\" height=\"18\" overflow=\"visible\" width=\"30\">    <path d=\"M 0 -9 l 6 18 L 0 25\" fill=\"none\" style=\"stroke:rgb(255.0, 0.0, 81.08083606031792);stroke-width:2\" />  </svg></g><g transform=\"translate(-2,0)\">  <svg x=\"16.706149068100434%\" y=\"40\" height=\"18\" overflow=\"visible\" width=\"30\">    <path d=\"M 0 -9 l 6 18 L 0 25\" fill=\"none\" style=\"stroke:rgb(255.0, 0.0, 81.08083606031792);stroke-width:2\" />  </svg></g><rect transform=\"translate(-8,0)\" x=\"77.90270463809388%\" y=\"40\" width=\"8\" height=\"18\" style=\"fill:rgb(255.0, 0.0, 81.08083606031792)\"/><g transform=\"translate(-11.5,0)\">  <svg x=\"8.3333332862134%\" y=\"40\" height=\"18\" overflow=\"visible\" width=\"30\">    <path d=\"M 10 -9 l 6 18 L 10 25 L 0 25 L 0 -9\" fill=\"#ffffff\" style=\"stroke:rgb(255,255,255);stroke-width:2\" />  </svg></g><g transform=\"translate(-1.5,0)\">  <svg x=\"77.90270463809388%\" y=\"40\" height=\"18\" overflow=\"visible\" width=\"30\">    <path d=\"M 0 -9 l 6 18 L 0 25\" fill=\"none\" style=\"stroke:rgb(255, 195, 213);stroke-width:2\" />  </svg></g><rect x=\"49.484803938862264%\" y=\"40\" height=\"20\" width=\"28.417900699231616%\"      onmouseover=\"document.getElementById('_tp_sphomkfhoijtbhhgjddn_ind_5').style.textDecoration = 'underline';document.getElementById('_fs_sphomkfhoijtbhhgjddn_ind_5').style.opacity = 1;document.getElementById('_fb_sphomkfhoijtbhhgjddn_ind_5').style.opacity = 1;\"      onmouseout=\"document.getElementById('_tp_sphomkfhoijtbhhgjddn_ind_5').style.textDecoration = 'none';document.getElementById('_fs_sphomkfhoijtbhhgjddn_ind_5').style.opacity = 0;document.getElementById('_fb_sphomkfhoijtbhhgjddn_ind_5').style.opacity = 0;\" style=\"fill:rgb(0,0,0,0)\" /><g transform=\"translate(-1.5,0)\">  <svg x=\"49.484803938862264%\" y=\"40\" height=\"18\" overflow=\"visible\" width=\"30\">    <path d=\"M 0 -9 l 6 18 L 0 25\" fill=\"none\" style=\"stroke:rgb(255, 195, 213);stroke-width:2\" />  </svg></g><rect x=\"25.3495701250382%\" y=\"40\" height=\"20\" width=\"24.135233813824065%\"      onmouseover=\"document.getElementById('_tp_sphomkfhoijtbhhgjddn_ind_6').style.textDecoration = 'underline';document.getElementById('_fs_sphomkfhoijtbhhgjddn_ind_6').style.opacity = 1;document.getElementById('_fb_sphomkfhoijtbhhgjddn_ind_6').style.opacity = 1;\"      onmouseout=\"document.getElementById('_tp_sphomkfhoijtbhhgjddn_ind_6').style.textDecoration = 'none';document.getElementById('_fs_sphomkfhoijtbhhgjddn_ind_6').style.opacity = 0;document.getElementById('_fb_sphomkfhoijtbhhgjddn_ind_6').style.opacity = 0;\" style=\"fill:rgb(0,0,0,0)\" /><g transform=\"translate(-1.5,0)\">  <svg x=\"25.3495701250382%\" y=\"40\" height=\"18\" overflow=\"visible\" width=\"30\">    <path d=\"M 0 -9 l 6 18 L 0 25\" fill=\"none\" style=\"stroke:rgb(255, 195, 213);stroke-width:2\" />  </svg></g><rect x=\"16.706149068100434%\" y=\"40\" height=\"20\" width=\"8.643421056937765%\"      onmouseover=\"document.getElementById('_tp_sphomkfhoijtbhhgjddn_ind_4').style.textDecoration = 'underline';document.getElementById('_fs_sphomkfhoijtbhhgjddn_ind_4').style.opacity = 1;document.getElementById('_fb_sphomkfhoijtbhhgjddn_ind_4').style.opacity = 1;\"      onmouseout=\"document.getElementById('_tp_sphomkfhoijtbhhgjddn_ind_4').style.textDecoration = 'none';document.getElementById('_fs_sphomkfhoijtbhhgjddn_ind_4').style.opacity = 0;document.getElementById('_fb_sphomkfhoijtbhhgjddn_ind_4').style.opacity = 0;\" style=\"fill:rgb(0,0,0,0)\" /><rect x=\"8.3333332862134%\" y=\"40\" height=\"20\" width=\"8.372815781887034%\"      onmouseover=\"document.getElementById('_tp_sphomkfhoijtbhhgjddn_ind_3').style.textDecoration = 'underline';document.getElementById('_fs_sphomkfhoijtbhhgjddn_ind_3').style.opacity = 1;document.getElementById('_fb_sphomkfhoijtbhhgjddn_ind_3').style.opacity = 1;\"      onmouseout=\"document.getElementById('_tp_sphomkfhoijtbhhgjddn_ind_3').style.textDecoration = 'none';document.getElementById('_fs_sphomkfhoijtbhhgjddn_ind_3').style.opacity = 0;document.getElementById('_fb_sphomkfhoijtbhhgjddn_ind_3').style.opacity = 0;\" style=\"fill:rgb(0,0,0,0)\" /><rect x=\"77.90270463809388%\" width=\"13.763961510253525%\" y=\"40\" height=\"18\" style=\"fill:rgb(0.0, 138.56128015770724, 250.76166088685727); stroke-width:0; stroke:rgb(0,0,0)\" /><line x1=\"77.90270463809388%\" x2=\"85.03127110247446%\" y1=\"60\" y2=\"60\" id=\"_fb_sphomkfhoijtbhhgjddn_ind_2\" style=\"stroke:rgb(0.0, 138.56128015770724, 250.76166088685727);stroke-width:2; opacity: 0\"/><text x=\"81.46698787028417%\" y=\"71\" font-size=\"12px\" fill=\"rgb(0.0, 138.56128015770724, 250.76166088685727)\" id=\"_fs_sphomkfhoijtbhhgjddn_ind_2\" style=\"opacity: 0\" dominant-baseline=\"middle\" text-anchor=\"middle\">-0.126</text><svg x=\"77.90270463809388%\" y=\"40\" height=\"20\" width=\"7.128566464380583%\">  <svg x=\"0\" y=\"0\" width=\"100%\" height=\"100%\">    <text x=\"50%\" y=\"9\" font-size=\"12px\" fill=\"rgb(255,255,255)\" dominant-baseline=\"middle\" text-anchor=\"middle\">P</text>  </svg></svg><line x1=\"85.03127110247446%\" x2=\"88.71443043707184%\" y1=\"60\" y2=\"60\" id=\"_fb_sphomkfhoijtbhhgjddn_ind_1\" style=\"stroke:rgb(0.0, 138.56128015770724, 250.76166088685727);stroke-width:2; opacity: 0\"/><text x=\"86.87285076977315%\" y=\"71\" font-size=\"12px\" fill=\"rgb(0.0, 138.56128015770724, 250.76166088685727)\" id=\"_fs_sphomkfhoijtbhhgjddn_ind_1\" style=\"opacity: 0\" dominant-baseline=\"middle\" text-anchor=\"middle\">-0.065</text><svg x=\"85.03127110247446%\" y=\"40\" height=\"20\" width=\"3.683159334597377%\">  <svg x=\"0\" y=\"0\" width=\"100%\" height=\"100%\">    <text x=\"50%\" y=\"9\" font-size=\"12px\" fill=\"rgb(255,255,255)\" dominant-baseline=\"middle\" text-anchor=\"middle\">SHA</text>  </svg></svg><line x1=\"88.71443043707184%\" x2=\"91.6666661483474%\" y1=\"60\" y2=\"60\" id=\"_fb_sphomkfhoijtbhhgjddn_ind_7\" style=\"stroke:rgb(0.0, 138.56128015770724, 250.76166088685727);stroke-width:2; opacity: 0\"/><text x=\"90.19054829270962%\" y=\"71\" font-size=\"12px\" fill=\"rgb(0.0, 138.56128015770724, 250.76166088685727)\" id=\"_fs_sphomkfhoijtbhhgjddn_ind_7\" style=\"opacity: 0\" dominant-baseline=\"middle\" text-anchor=\"middle\">-0.052</text><svg x=\"88.71443043707184%\" y=\"40\" height=\"20\" width=\"2.952235711275563%\">  <svg x=\"0\" y=\"0\" width=\"100%\" height=\"100%\">    <text x=\"50%\" y=\"9\" font-size=\"12px\" fill=\"rgb(255,255,255)\" dominant-baseline=\"middle\" text-anchor=\"middle\">er</text>  </svg></svg><g transform=\"translate(-8,0)\">  <svg x=\"85.03127110247446%\" y=\"40\" height=\"18\" overflow=\"visible\" width=\"30\">    <path d=\"M 8 -9 l -6 18 L 8 25\" fill=\"none\" style=\"stroke:rgb(0.0, 138.56128015770724, 250.76166088685727);stroke-width:2\" />  </svg></g><g transform=\"translate(-10,0)\">  <svg x=\"85.03127110247446%\" y=\"40\" height=\"18\" overflow=\"visible\" width=\"30\">    <path d=\"M 8 -9 l -6 18 L 8 25\" fill=\"none\" style=\"stroke:rgb(0.0, 138.56128015770724, 250.76166088685727);stroke-width:2\" />  </svg></g><g transform=\"translate(-12,0)\">  <svg x=\"85.03127110247446%\" y=\"40\" height=\"18\" overflow=\"visible\" width=\"30\">    <path d=\"M 8 -9 l -6 18 L 8 25\" fill=\"none\" style=\"stroke:rgb(0.0, 138.56128015770724, 250.76166088685727);stroke-width:2\" />  </svg></g><g transform=\"translate(-14,0)\">  <svg x=\"85.03127110247446%\" y=\"40\" height=\"18\" overflow=\"visible\" width=\"30\">    <path d=\"M 8 -9 l -6 18 L 8 25\" fill=\"none\" style=\"stroke:rgb(0.0, 138.56128015770724, 250.76166088685727);stroke-width:2\" />  </svg></g><g transform=\"translate(2,0)\">  <svg x=\"85.03127110247446%\" y=\"40\" height=\"18\" overflow=\"visible\" width=\"30\">    <path d=\"M 8 -9 l -6 18 L 8 25\" fill=\"none\" style=\"stroke:rgb(0.0, 138.56128015770724, 250.76166088685727);stroke-width:2\" />  </svg></g><g transform=\"translate(0,0)\">  <svg x=\"85.03127110247446%\" y=\"40\" height=\"18\" overflow=\"visible\" width=\"30\">    <path d=\"M 8 -9 l -6 18 L 8 25\" fill=\"none\" style=\"stroke:rgb(0.0, 138.56128015770724, 250.76166088685727);stroke-width:2\" />  </svg></g><g transform=\"translate(-2,0)\">  <svg x=\"85.03127110247446%\" y=\"40\" height=\"18\" overflow=\"visible\" width=\"30\">    <path d=\"M 8 -9 l -6 18 L 8 25\" fill=\"none\" style=\"stroke:rgb(0.0, 138.56128015770724, 250.76166088685727);stroke-width:2\" />  </svg></g><g transform=\"translate(-4,0)\">  <svg x=\"85.03127110247446%\" y=\"40\" height=\"18\" overflow=\"visible\" width=\"30\">    <path d=\"M 8 -9 l -6 18 L 8 25\" fill=\"none\" style=\"stroke:rgb(0.0, 138.56128015770724, 250.76166088685727);stroke-width:2\" />  </svg></g><g transform=\"translate(-8,0)\">  <svg x=\"88.71443043707184%\" y=\"40\" height=\"18\" overflow=\"visible\" width=\"30\">    <path d=\"M 8 -9 l -6 18 L 8 25\" fill=\"none\" style=\"stroke:rgb(0.0, 138.56128015770724, 250.76166088685727);stroke-width:2\" />  </svg></g><g transform=\"translate(-10,0)\">  <svg x=\"88.71443043707184%\" y=\"40\" height=\"18\" overflow=\"visible\" width=\"30\">    <path d=\"M 8 -9 l -6 18 L 8 25\" fill=\"none\" style=\"stroke:rgb(0.0, 138.56128015770724, 250.76166088685727);stroke-width:2\" />  </svg></g><g transform=\"translate(-12,0)\">  <svg x=\"88.71443043707184%\" y=\"40\" height=\"18\" overflow=\"visible\" width=\"30\">    <path d=\"M 8 -9 l -6 18 L 8 25\" fill=\"none\" style=\"stroke:rgb(0.0, 138.56128015770724, 250.76166088685727);stroke-width:2\" />  </svg></g><g transform=\"translate(-14,0)\">  <svg x=\"88.71443043707184%\" y=\"40\" height=\"18\" overflow=\"visible\" width=\"30\">    <path d=\"M 8 -9 l -6 18 L 8 25\" fill=\"none\" style=\"stroke:rgb(0.0, 138.56128015770724, 250.76166088685727);stroke-width:2\" />  </svg></g><g transform=\"translate(2,0)\">  <svg x=\"88.71443043707184%\" y=\"40\" height=\"18\" overflow=\"visible\" width=\"30\">    <path d=\"M 8 -9 l -6 18 L 8 25\" fill=\"none\" style=\"stroke:rgb(0.0, 138.56128015770724, 250.76166088685727);stroke-width:2\" />  </svg></g><g transform=\"translate(0,0)\">  <svg x=\"88.71443043707184%\" y=\"40\" height=\"18\" overflow=\"visible\" width=\"30\">    <path d=\"M 8 -9 l -6 18 L 8 25\" fill=\"none\" style=\"stroke:rgb(0.0, 138.56128015770724, 250.76166088685727);stroke-width:2\" />  </svg></g><g transform=\"translate(-2,0)\">  <svg x=\"88.71443043707184%\" y=\"40\" height=\"18\" overflow=\"visible\" width=\"30\">    <path d=\"M 8 -9 l -6 18 L 8 25\" fill=\"none\" style=\"stroke:rgb(0.0, 138.56128015770724, 250.76166088685727);stroke-width:2\" />  </svg></g><g transform=\"translate(-4,0)\">  <svg x=\"88.71443043707184%\" y=\"40\" height=\"18\" overflow=\"visible\" width=\"30\">    <path d=\"M 8 -9 l -6 18 L 8 25\" fill=\"none\" style=\"stroke:rgb(0.0, 138.56128015770724, 250.76166088685727);stroke-width:2\" />  </svg></g><rect transform=\"translate(0,0)\" x=\"77.90270463809388%\" y=\"40\" width=\"8\" height=\"18\" style=\"fill:rgb(0.0, 138.56128015770724, 250.76166088685727)\"/><g transform=\"translate(-6.0,0)\">  <svg x=\"91.6666661483474%\" y=\"40\" height=\"18\" overflow=\"visible\" width=\"30\">    <path d=\"M 8 -9 l -6 18 L 8 25 L 20 25 L 20 -9\" fill=\"#ffffff\" style=\"stroke:rgb(255,255,255);stroke-width:2\" />  </svg></g><g transform=\"translate(-6.0,0)\">  <svg x=\"85.03127110247446%\" y=\"40\" height=\"18\" overflow=\"visible\" width=\"30\">    <path d=\"M 8 -9 l -6 18 L 8 25\" fill=\"none\" style=\"stroke:rgb(208, 230, 250);stroke-width:2\" />  </svg></g><rect x=\"77.90270463809388%\" y=\"40\" height=\"20\" width=\"7.128566464380583%\"      onmouseover=\"document.getElementById('_tp_sphomkfhoijtbhhgjddn_ind_2').style.textDecoration = 'underline';document.getElementById('_fs_sphomkfhoijtbhhgjddn_ind_2').style.opacity = 1;document.getElementById('_fb_sphomkfhoijtbhhgjddn_ind_2').style.opacity = 1;\"      onmouseout=\"document.getElementById('_tp_sphomkfhoijtbhhgjddn_ind_2').style.textDecoration = 'none';document.getElementById('_fs_sphomkfhoijtbhhgjddn_ind_2').style.opacity = 0;document.getElementById('_fb_sphomkfhoijtbhhgjddn_ind_2').style.opacity = 0;\" style=\"fill:rgb(0,0,0,0)\" /><g transform=\"translate(-6.0,0)\">  <svg x=\"88.71443043707184%\" y=\"40\" height=\"18\" overflow=\"visible\" width=\"30\">    <path d=\"M 8 -9 l -6 18 L 8 25\" fill=\"none\" style=\"stroke:rgb(208, 230, 250);stroke-width:2\" />  </svg></g><rect x=\"85.03127110247446%\" y=\"40\" height=\"20\" width=\"3.683159334597377%\"      onmouseover=\"document.getElementById('_tp_sphomkfhoijtbhhgjddn_ind_1').style.textDecoration = 'underline';document.getElementById('_fs_sphomkfhoijtbhhgjddn_ind_1').style.opacity = 1;document.getElementById('_fb_sphomkfhoijtbhhgjddn_ind_1').style.opacity = 1;\"      onmouseout=\"document.getElementById('_tp_sphomkfhoijtbhhgjddn_ind_1').style.textDecoration = 'none';document.getElementById('_fs_sphomkfhoijtbhhgjddn_ind_1').style.opacity = 0;document.getElementById('_fb_sphomkfhoijtbhhgjddn_ind_1').style.opacity = 0;\" style=\"fill:rgb(0,0,0,0)\" /><rect x=\"88.71443043707184%\" y=\"40\" height=\"20\" width=\"2.952235711275563%\"      onmouseover=\"document.getElementById('_tp_sphomkfhoijtbhhgjddn_ind_7').style.textDecoration = 'underline';document.getElementById('_fs_sphomkfhoijtbhhgjddn_ind_7').style.opacity = 1;document.getElementById('_fb_sphomkfhoijtbhhgjddn_ind_7').style.opacity = 1;\"      onmouseout=\"document.getElementById('_tp_sphomkfhoijtbhhgjddn_ind_7').style.textDecoration = 'none';document.getElementById('_fs_sphomkfhoijtbhhgjddn_ind_7').style.opacity = 0;document.getElementById('_fb_sphomkfhoijtbhhgjddn_ind_7').style.opacity = 0;\" style=\"fill:rgb(0,0,0,0)\" /></svg><div align='center'><div style=\"color: rgb(120,120,120); font-size: 12px; margin-top: -15px;\">inputs</div><div style='display: inline; text-align: center;'\n",
              "    ><div style='display: none; color: #999; padding-top: 0px; font-size: 12px;'>0.0</div\n",
              "        ><div id='_tp_sphomkfhoijtbhhgjddn_ind_0'\n",
              "            style='display: inline; background: rgba(230.2941176470614, 26.505882352939775, 102.59215686274348, 0.0); border-radius: 3px; padding: 0px'\n",
              "            onclick=\"\n",
              "            if (this.previousSibling.style.display == 'none') {\n",
              "                this.previousSibling.style.display = 'block';\n",
              "                this.parentNode.style.display = 'inline-block';\n",
              "            } else {\n",
              "                this.previousSibling.style.display = 'none';\n",
              "                this.parentNode.style.display = 'inline';\n",
              "            }\"\n",
              "            onmouseover=\"document.getElementById('_fb_sphomkfhoijtbhhgjddn_ind_0').style.opacity = 1; document.getElementById('_fs_sphomkfhoijtbhhgjddn_ind_0').style.opacity = 1;\"\n",
              "            onmouseout=\"document.getElementById('_fb_sphomkfhoijtbhhgjddn_ind_0').style.opacity = 0; document.getElementById('_fs_sphomkfhoijtbhhgjddn_ind_0').style.opacity = 0;\"\n",
              "        ></div></div><div style='display: inline; text-align: center;'\n",
              "    ><div style='display: none; color: #999; padding-top: 0px; font-size: 12px;'>-0.065</div\n",
              "        ><div id='_tp_sphomkfhoijtbhhgjddn_ind_1'\n",
              "            style='display: inline; background: rgba(30.0, 136.0, 229.0, 0.12501485442661905); border-radius: 3px; padding: 0px'\n",
              "            onclick=\"\n",
              "            if (this.previousSibling.style.display == 'none') {\n",
              "                this.previousSibling.style.display = 'block';\n",
              "                this.parentNode.style.display = 'inline-block';\n",
              "            } else {\n",
              "                this.previousSibling.style.display = 'none';\n",
              "                this.parentNode.style.display = 'inline';\n",
              "            }\"\n",
              "            onmouseover=\"document.getElementById('_fb_sphomkfhoijtbhhgjddn_ind_1').style.opacity = 1; document.getElementById('_fs_sphomkfhoijtbhhgjddn_ind_1').style.opacity = 1;\"\n",
              "            onmouseout=\"document.getElementById('_fb_sphomkfhoijtbhhgjddn_ind_1').style.opacity = 0; document.getElementById('_fs_sphomkfhoijtbhhgjddn_ind_1').style.opacity = 0;\"\n",
              "        >SHA</div></div><div style='display: inline; text-align: center;'\n",
              "    ><div style='display: none; color: #999; padding-top: 0px; font-size: 12px;'>-0.126</div\n",
              "        ><div id='_tp_sphomkfhoijtbhhgjddn_ind_2'\n",
              "            style='display: inline; background: rgba(30.0, 136.0, 229.0, 0.25113883937413345); border-radius: 3px; padding: 0px'\n",
              "            onclick=\"\n",
              "            if (this.previousSibling.style.display == 'none') {\n",
              "                this.previousSibling.style.display = 'block';\n",
              "                this.parentNode.style.display = 'inline-block';\n",
              "            } else {\n",
              "                this.previousSibling.style.display = 'none';\n",
              "                this.parentNode.style.display = 'inline';\n",
              "            }\"\n",
              "            onmouseover=\"document.getElementById('_fb_sphomkfhoijtbhhgjddn_ind_2').style.opacity = 1; document.getElementById('_fs_sphomkfhoijtbhhgjddn_ind_2').style.opacity = 1;\"\n",
              "            onmouseout=\"document.getElementById('_fb_sphomkfhoijtbhhgjddn_ind_2').style.opacity = 0; document.getElementById('_fs_sphomkfhoijtbhhgjddn_ind_2').style.opacity = 0;\"\n",
              "        >P </div></div><div style='display: inline; text-align: center;'\n",
              "    ><div style='display: none; color: #999; padding-top: 0px; font-size: 12px;'>0.148</div\n",
              "        ><div id='_tp_sphomkfhoijtbhhgjddn_ind_3'\n",
              "            style='display: inline; background: rgba(255.0, 13.0, 87.0, 0.29055258467023165); border-radius: 3px; padding: 0px'\n",
              "            onclick=\"\n",
              "            if (this.previousSibling.style.display == 'none') {\n",
              "                this.previousSibling.style.display = 'block';\n",
              "                this.parentNode.style.display = 'inline-block';\n",
              "            } else {\n",
              "                this.previousSibling.style.display = 'none';\n",
              "                this.parentNode.style.display = 'inline';\n",
              "            }\"\n",
              "            onmouseover=\"document.getElementById('_fb_sphomkfhoijtbhhgjddn_ind_3').style.opacity = 1; document.getElementById('_fs_sphomkfhoijtbhhgjddn_ind_3').style.opacity = 1;\"\n",
              "            onmouseout=\"document.getElementById('_fb_sphomkfhoijtbhhgjddn_ind_3').style.opacity = 0; document.getElementById('_fs_sphomkfhoijtbhhgjddn_ind_3').style.opacity = 0;\"\n",
              "        >is </div></div><div style='display: inline; text-align: center;'\n",
              "    ><div style='display: none; color: #999; padding-top: 0px; font-size: 12px;'>0.153</div\n",
              "        ><div id='_tp_sphomkfhoijtbhhgjddn_ind_4'\n",
              "            style='display: inline; background: rgba(255.0, 13.0, 87.0, 0.29843533372945136); border-radius: 3px; padding: 0px'\n",
              "            onclick=\"\n",
              "            if (this.previousSibling.style.display == 'none') {\n",
              "                this.previousSibling.style.display = 'block';\n",
              "                this.parentNode.style.display = 'inline-block';\n",
              "            } else {\n",
              "                this.previousSibling.style.display = 'none';\n",
              "                this.parentNode.style.display = 'inline';\n",
              "            }\"\n",
              "            onmouseover=\"document.getElementById('_fb_sphomkfhoijtbhhgjddn_ind_4').style.opacity = 1; document.getElementById('_fs_sphomkfhoijtbhhgjddn_ind_4').style.opacity = 1;\"\n",
              "            onmouseout=\"document.getElementById('_fb_sphomkfhoijtbhhgjddn_ind_4').style.opacity = 0; document.getElementById('_fs_sphomkfhoijtbhhgjddn_ind_4').style.opacity = 0;\"\n",
              "        >a </div></div><div style='display: inline; text-align: center;'\n",
              "    ><div style='display: none; color: #999; padding-top: 0px; font-size: 12px;'>0.503</div\n",
              "        ><div id='_tp_sphomkfhoijtbhhgjddn_ind_5'\n",
              "            style='display: inline; background: rgba(255.0, 13.0, 87.0, 1.0); border-radius: 3px; padding: 0px'\n",
              "            onclick=\"\n",
              "            if (this.previousSibling.style.display == 'none') {\n",
              "                this.previousSibling.style.display = 'block';\n",
              "                this.parentNode.style.display = 'inline-block';\n",
              "            } else {\n",
              "                this.previousSibling.style.display = 'none';\n",
              "                this.parentNode.style.display = 'inline';\n",
              "            }\"\n",
              "            onmouseover=\"document.getElementById('_fb_sphomkfhoijtbhhgjddn_ind_5').style.opacity = 1; document.getElementById('_fs_sphomkfhoijtbhhgjddn_ind_5').style.opacity = 1;\"\n",
              "            onmouseout=\"document.getElementById('_fb_sphomkfhoijtbhhgjddn_ind_5').style.opacity = 0; document.getElementById('_fs_sphomkfhoijtbhhgjddn_ind_5').style.opacity = 0;\"\n",
              "        >useful </div></div><div style='display: inline; text-align: center;'\n",
              "    ><div style='display: none; color: #999; padding-top: 0px; font-size: 12px;'>0.427</div\n",
              "        ><div id='_tp_sphomkfhoijtbhhgjddn_ind_6'\n",
              "            style='display: inline; background: rgba(255.0, 13.0, 87.0, 0.8502277678748268); border-radius: 3px; padding: 0px'\n",
              "            onclick=\"\n",
              "            if (this.previousSibling.style.display == 'none') {\n",
              "                this.previousSibling.style.display = 'block';\n",
              "                this.parentNode.style.display = 'inline-block';\n",
              "            } else {\n",
              "                this.previousSibling.style.display = 'none';\n",
              "                this.parentNode.style.display = 'inline';\n",
              "            }\"\n",
              "            onmouseover=\"document.getElementById('_fb_sphomkfhoijtbhhgjddn_ind_6').style.opacity = 1; document.getElementById('_fs_sphomkfhoijtbhhgjddn_ind_6').style.opacity = 1;\"\n",
              "            onmouseout=\"document.getElementById('_fb_sphomkfhoijtbhhgjddn_ind_6').style.opacity = 0; document.getElementById('_fs_sphomkfhoijtbhhgjddn_ind_6').style.opacity = 0;\"\n",
              "        >explain</div></div><div style='display: inline; text-align: center;'\n",
              "    ><div style='display: none; color: #999; padding-top: 0px; font-size: 12px;'>-0.052</div\n",
              "        ><div id='_tp_sphomkfhoijtbhhgjddn_ind_7'\n",
              "            style='display: inline; background: rgba(30.0, 136.0, 229.0, 0.10136660724896014); border-radius: 3px; padding: 0px'\n",
              "            onclick=\"\n",
              "            if (this.previousSibling.style.display == 'none') {\n",
              "                this.previousSibling.style.display = 'block';\n",
              "                this.parentNode.style.display = 'inline-block';\n",
              "            } else {\n",
              "                this.previousSibling.style.display = 'none';\n",
              "                this.parentNode.style.display = 'inline';\n",
              "            }\"\n",
              "            onmouseover=\"document.getElementById('_fb_sphomkfhoijtbhhgjddn_ind_7').style.opacity = 1; document.getElementById('_fs_sphomkfhoijtbhhgjddn_ind_7').style.opacity = 1;\"\n",
              "            onmouseout=\"document.getElementById('_fb_sphomkfhoijtbhhgjddn_ind_7').style.opacity = 0; document.getElementById('_fs_sphomkfhoijtbhhgjddn_ind_7').style.opacity = 0;\"\n",
              "        >er</div></div><div style='display: inline; text-align: center;'\n",
              "    ><div style='display: none; color: #999; padding-top: 0px; font-size: 12px;'>0.0</div\n",
              "        ><div id='_tp_sphomkfhoijtbhhgjddn_ind_8'\n",
              "            style='display: inline; background: rgba(230.2941176470614, 26.505882352939775, 102.59215686274348, 0.0); border-radius: 3px; padding: 0px'\n",
              "            onclick=\"\n",
              "            if (this.previousSibling.style.display == 'none') {\n",
              "                this.previousSibling.style.display = 'block';\n",
              "                this.parentNode.style.display = 'inline-block';\n",
              "            } else {\n",
              "                this.previousSibling.style.display = 'none';\n",
              "                this.parentNode.style.display = 'inline';\n",
              "            }\"\n",
              "            onmouseover=\"document.getElementById('_fb_sphomkfhoijtbhhgjddn_ind_8').style.opacity = 1; document.getElementById('_fs_sphomkfhoijtbhhgjddn_ind_8').style.opacity = 1;\"\n",
              "            onmouseout=\"document.getElementById('_fb_sphomkfhoijtbhhgjddn_ind_8').style.opacity = 0; document.getElementById('_fs_sphomkfhoijtbhhgjddn_ind_8').style.opacity = 0;\"\n",
              "        ></div></div></div>"
            ],
            "text/plain": [
              "<IPython.core.display.HTML object>"
            ]
          },
          "metadata": {},
          "output_type": "display_data"
        }
      ],
      "source": [
        "import shap\n",
        "# explain the model on the input sentence\n",
        "explainer = shap.Explainer(model) \n",
        "shap_values = explainer([sentence])\n",
        "\n",
        "# visualize the first prediction's explanation for the predicted class\n",
        "predicted_class = result['label']\n",
        "shap.plots.text(shap_values[0, :, predicted_class])"
      ]
    },
    {
      "cell_type": "code",
      "execution_count": 7,
      "metadata": {
        "colab": {
          "base_uri": "https://localhost:8080/"
        },
        "id": "NXg2s3P9prbZ",
        "outputId": "8c4792e6-488a-436c-af4a-5e0d936c410f"
      },
      "outputs": [
        {
          "name": "stdout",
          "output_type": "stream",
          "text": [
            "Word: SHAP, SHAP value: 0.0\n",
            "Word: is, SHAP value: 0.12446051836013794\n",
            "Word: a, SHAP value: 0.17050936818122864\n",
            "Word: useful, SHAP value: -0.11854983493685722\n",
            "Word: explainer, SHAP value: -0.09484538808465004\n"
          ]
        }
      ],
      "source": [
        "# get the sentiment score \n",
        "sentiment_score = model(sentence)[0]['score']\n",
        "\n",
        "# print the SHAP values for each word\n",
        "words = sentence.split(' ')\n",
        "for word, shap_value in zip(words, shap_values.values[0, :, 0]):\n",
        "    print(f\"Word: {word}, SHAP value: {shap_value}\")"
      ]
    }
  ],
  "metadata": {
    "colab": {
      "authorship_tag": "ABX9TyOXZqKpaNrNpAgpxlf1SKZx",
      "provenance": [],
      "toc_visible": true
    },
    "kernelspec": {
      "display_name": "Python 3",
      "name": "python3"
    },
    "language_info": {
      "codemirror_mode": {
        "name": "ipython",
        "version": 3
      },
      "file_extension": ".py",
      "mimetype": "text/x-python",
      "name": "python",
      "nbconvert_exporter": "python",
      "pygments_lexer": "ipython3",
      "version": "3.11.6"
    }
  },
  "nbformat": 4,
  "nbformat_minor": 0
}
