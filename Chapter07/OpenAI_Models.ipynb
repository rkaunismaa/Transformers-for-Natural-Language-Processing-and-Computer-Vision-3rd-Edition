{
  "cells": [
    {
      "cell_type": "markdown",
      "metadata": {},
      "source": [
        "#### Monday, March 18, 2024\n",
        "\n",
        "mamba activate t4nlpacv\n",
        "\n",
        "This all runs in one pass.\n",
        "It uses 0 OpenAI tokens. "
      ]
    },
    {
      "cell_type": "markdown",
      "metadata": {
        "id": "EqIzen_ZoLZJ"
      },
      "source": [
        "# OpenAI Models\n",
        "\n",
        "Copyright 2024 Denis Rothman\n",
        "\n",
        "You can run this notebook regularly to see if the model(s) you are using are facing deprecation or not. It provides insight.\n",
        "\n",
        "You can also consult [OpenAI Deprecations](https://platform.openai.com/docs/deprecations) at the same time.\n",
        "\n",
        "The list come in handy when the announced [models](https://platform.openai.com/docs/models) are actually available through APIs.\n",
        "\n",
        "To get more information when the action is happening, join the [OpenAI Community](https://community.openai.com/).\n",
        "\n"
      ]
    },
    {
      "cell_type": "markdown",
      "metadata": {
        "id": "S0fzH6WbooVo"
      },
      "source": [
        "Installing OpenAI API for all models"
      ]
    },
    {
      "cell_type": "code",
      "execution_count": 1,
      "metadata": {
        "colab": {
          "base_uri": "https://localhost:8080/"
        },
        "id": "EOYMxwshoKdh",
        "outputId": "65eba171-0e1a-49fd-cc08-9b7974af3abb"
      },
      "outputs": [],
      "source": [
        "# try:\n",
        "#   import openai\n",
        "# except:\n",
        "#   !pip install openai\n",
        "#   import openai"
      ]
    },
    {
      "cell_type": "markdown",
      "metadata": {
        "id": "qwyMWqaRpnDL"
      },
      "source": [
        "Retrieving the API key from a file"
      ]
    },
    {
      "cell_type": "code",
      "execution_count": 2,
      "metadata": {
        "colab": {
          "base_uri": "https://localhost:8080/"
        },
        "id": "C0a2WrZSpxo_",
        "outputId": "bee1413c-d55a-4313-bb71-40087c06ef4e"
      },
      "outputs": [],
      "source": [
        "# from google.colab import drive\n",
        "# drive.mount('/content/drive')"
      ]
    },
    {
      "cell_type": "code",
      "execution_count": 3,
      "metadata": {
        "id": "ZrJmEGQUpzYs"
      },
      "outputs": [],
      "source": [
        "# f = open(\"drive/MyDrive/files/api_key.txt\", \"r\")\n",
        "# API_KEY=f.readline()\n",
        "# f.close()"
      ]
    },
    {
      "cell_type": "markdown",
      "metadata": {
        "id": "fEjFSzzhqhtW"
      },
      "source": [
        "Authentification\n",
        "\n",
        "Setting the environment variable OPENAI_API_KEY to the value of API_KEY"
      ]
    },
    {
      "cell_type": "code",
      "execution_count": 1,
      "metadata": {},
      "outputs": [],
      "source": [
        "import os\n",
        "import openai\n",
        "\n",
        "OPENAI_API_KEY_ = os.environ['OPENAI_API_KEY_'] \n",
        "openai.api_key = OPENAI_API_KEY_"
      ]
    },
    {
      "cell_type": "markdown",
      "metadata": {
        "id": "a_rhxrm1rGyS"
      },
      "source": [
        "Listing available OpenAI models and engines"
      ]
    },
    {
      "cell_type": "code",
      "execution_count": 2,
      "metadata": {
        "id": "uFn-ph88rObF"
      },
      "outputs": [],
      "source": [
        "elist=openai.models.list()"
      ]
    },
    {
      "cell_type": "code",
      "execution_count": 3,
      "metadata": {
        "colab": {
          "base_uri": "https://localhost:8080/"
        },
        "id": "I7-_7nsou_Qh",
        "outputId": "83fb3935-cbd8-4116-f98c-b80048f62028"
      },
      "outputs": [
        {
          "name": "stdout",
          "output_type": "stream",
          "text": [
            "SyncPage[Model](data=[Model(id='gpt-3.5-turbo-16k', created=1683758102, object='model', owned_by='openai-internal'), Model(id='gpt-3.5-turbo-1106', created=1698959748, object='model', owned_by='system'), Model(id='dall-e-3', created=1698785189, object='model', owned_by='system'), Model(id='gpt-3.5-turbo-16k-0613', created=1685474247, object='model', owned_by='openai'), Model(id='dall-e-2', created=1698798177, object='model', owned_by='system'), Model(id='text-embedding-3-large', created=1705953180, object='model', owned_by='system'), Model(id='whisper-1', created=1677532384, object='model', owned_by='openai-internal'), Model(id='tts-1-hd-1106', created=1699053533, object='model', owned_by='system'), Model(id='tts-1-hd', created=1699046015, object='model', owned_by='system'), Model(id='gpt-3.5-turbo', created=1677610602, object='model', owned_by='openai'), Model(id='gpt-3.5-turbo-0125', created=1706048358, object='model', owned_by='system'), Model(id='gpt-4-0613', created=1686588896, object='model', owned_by='openai'), Model(id='gpt-3.5-turbo-0301', created=1677649963, object='model', owned_by='openai'), Model(id='gpt-3.5-turbo-0613', created=1686587434, object='model', owned_by='openai'), Model(id='gpt-3.5-turbo-instruct-0914', created=1694122472, object='model', owned_by='system'), Model(id='gpt-4', created=1687882411, object='model', owned_by='openai'), Model(id='tts-1', created=1681940951, object='model', owned_by='openai-internal'), Model(id='davinci-002', created=1692634301, object='model', owned_by='system'), Model(id='gpt-3.5-turbo-instruct', created=1692901427, object='model', owned_by='system'), Model(id='babbage-002', created=1692634615, object='model', owned_by='system'), Model(id='gpt-4-1106-preview', created=1698957206, object='model', owned_by='system'), Model(id='gpt-4-vision-preview', created=1698894917, object='model', owned_by='system'), Model(id='tts-1-1106', created=1699053241, object='model', owned_by='system'), Model(id='gpt-4-0125-preview', created=1706037612, object='model', owned_by='system'), Model(id='gpt-4-turbo-preview', created=1706037777, object='model', owned_by='system'), Model(id='text-embedding-ada-002', created=1671217299, object='model', owned_by='openai-internal'), Model(id='text-embedding-3-small', created=1705948997, object='model', owned_by='system')], object='list')\n"
          ]
        }
      ],
      "source": [
        "print(elist)"
      ]
    },
    {
      "cell_type": "code",
      "execution_count": 4,
      "metadata": {
        "colab": {
          "base_uri": "https://localhost:8080/"
        },
        "id": "GnkzEzp8r_xx",
        "outputId": "5631c6ba-0fc9-443f-d470-407f8d985b77"
      },
      "outputs": [
        {
          "name": "stdout",
          "output_type": "stream",
          "text": [
            "Number of models: 27\n"
          ]
        }
      ],
      "source": [
        "count = 0\n",
        "for model in elist:\n",
        "    count += 1\n",
        "\n",
        "print(\"Number of models:\", count)"
      ]
    },
    {
      "cell_type": "code",
      "execution_count": 5,
      "metadata": {
        "colab": {
          "base_uri": "https://localhost:8080/",
          "height": 423
        },
        "id": "3dDZWIYuv85S",
        "outputId": "09bcbf72-244b-41a4-fc95-c7b423a66cf2"
      },
      "outputs": [
        {
          "data": {
            "text/html": [
              "<div>\n",
              "<style scoped>\n",
              "    .dataframe tbody tr th:only-of-type {\n",
              "        vertical-align: middle;\n",
              "    }\n",
              "\n",
              "    .dataframe tbody tr th {\n",
              "        vertical-align: top;\n",
              "    }\n",
              "\n",
              "    .dataframe thead th {\n",
              "        text-align: right;\n",
              "    }\n",
              "</style>\n",
              "<table border=\"1\" class=\"dataframe\">\n",
              "  <thead>\n",
              "    <tr style=\"text-align: right;\">\n",
              "      <th></th>\n",
              "      <th>id</th>\n",
              "      <th>created</th>\n",
              "      <th>object</th>\n",
              "      <th>owned_by</th>\n",
              "    </tr>\n",
              "  </thead>\n",
              "  <tbody>\n",
              "    <tr>\n",
              "      <th>19</th>\n",
              "      <td>babbage-002</td>\n",
              "      <td>1692634615</td>\n",
              "      <td>model</td>\n",
              "      <td>system</td>\n",
              "    </tr>\n",
              "    <tr>\n",
              "      <th>4</th>\n",
              "      <td>dall-e-2</td>\n",
              "      <td>1698798177</td>\n",
              "      <td>model</td>\n",
              "      <td>system</td>\n",
              "    </tr>\n",
              "    <tr>\n",
              "      <th>2</th>\n",
              "      <td>dall-e-3</td>\n",
              "      <td>1698785189</td>\n",
              "      <td>model</td>\n",
              "      <td>system</td>\n",
              "    </tr>\n",
              "    <tr>\n",
              "      <th>17</th>\n",
              "      <td>davinci-002</td>\n",
              "      <td>1692634301</td>\n",
              "      <td>model</td>\n",
              "      <td>system</td>\n",
              "    </tr>\n",
              "    <tr>\n",
              "      <th>9</th>\n",
              "      <td>gpt-3.5-turbo</td>\n",
              "      <td>1677610602</td>\n",
              "      <td>model</td>\n",
              "      <td>openai</td>\n",
              "    </tr>\n",
              "    <tr>\n",
              "      <th>10</th>\n",
              "      <td>gpt-3.5-turbo-0125</td>\n",
              "      <td>1706048358</td>\n",
              "      <td>model</td>\n",
              "      <td>system</td>\n",
              "    </tr>\n",
              "    <tr>\n",
              "      <th>12</th>\n",
              "      <td>gpt-3.5-turbo-0301</td>\n",
              "      <td>1677649963</td>\n",
              "      <td>model</td>\n",
              "      <td>openai</td>\n",
              "    </tr>\n",
              "    <tr>\n",
              "      <th>13</th>\n",
              "      <td>gpt-3.5-turbo-0613</td>\n",
              "      <td>1686587434</td>\n",
              "      <td>model</td>\n",
              "      <td>openai</td>\n",
              "    </tr>\n",
              "    <tr>\n",
              "      <th>1</th>\n",
              "      <td>gpt-3.5-turbo-1106</td>\n",
              "      <td>1698959748</td>\n",
              "      <td>model</td>\n",
              "      <td>system</td>\n",
              "    </tr>\n",
              "    <tr>\n",
              "      <th>0</th>\n",
              "      <td>gpt-3.5-turbo-16k</td>\n",
              "      <td>1683758102</td>\n",
              "      <td>model</td>\n",
              "      <td>openai-internal</td>\n",
              "    </tr>\n",
              "    <tr>\n",
              "      <th>3</th>\n",
              "      <td>gpt-3.5-turbo-16k-0613</td>\n",
              "      <td>1685474247</td>\n",
              "      <td>model</td>\n",
              "      <td>openai</td>\n",
              "    </tr>\n",
              "    <tr>\n",
              "      <th>18</th>\n",
              "      <td>gpt-3.5-turbo-instruct</td>\n",
              "      <td>1692901427</td>\n",
              "      <td>model</td>\n",
              "      <td>system</td>\n",
              "    </tr>\n",
              "    <tr>\n",
              "      <th>14</th>\n",
              "      <td>gpt-3.5-turbo-instruct-0914</td>\n",
              "      <td>1694122472</td>\n",
              "      <td>model</td>\n",
              "      <td>system</td>\n",
              "    </tr>\n",
              "    <tr>\n",
              "      <th>15</th>\n",
              "      <td>gpt-4</td>\n",
              "      <td>1687882411</td>\n",
              "      <td>model</td>\n",
              "      <td>openai</td>\n",
              "    </tr>\n",
              "    <tr>\n",
              "      <th>23</th>\n",
              "      <td>gpt-4-0125-preview</td>\n",
              "      <td>1706037612</td>\n",
              "      <td>model</td>\n",
              "      <td>system</td>\n",
              "    </tr>\n",
              "    <tr>\n",
              "      <th>11</th>\n",
              "      <td>gpt-4-0613</td>\n",
              "      <td>1686588896</td>\n",
              "      <td>model</td>\n",
              "      <td>openai</td>\n",
              "    </tr>\n",
              "    <tr>\n",
              "      <th>20</th>\n",
              "      <td>gpt-4-1106-preview</td>\n",
              "      <td>1698957206</td>\n",
              "      <td>model</td>\n",
              "      <td>system</td>\n",
              "    </tr>\n",
              "    <tr>\n",
              "      <th>24</th>\n",
              "      <td>gpt-4-turbo-preview</td>\n",
              "      <td>1706037777</td>\n",
              "      <td>model</td>\n",
              "      <td>system</td>\n",
              "    </tr>\n",
              "    <tr>\n",
              "      <th>21</th>\n",
              "      <td>gpt-4-vision-preview</td>\n",
              "      <td>1698894917</td>\n",
              "      <td>model</td>\n",
              "      <td>system</td>\n",
              "    </tr>\n",
              "    <tr>\n",
              "      <th>5</th>\n",
              "      <td>text-embedding-3-large</td>\n",
              "      <td>1705953180</td>\n",
              "      <td>model</td>\n",
              "      <td>system</td>\n",
              "    </tr>\n",
              "    <tr>\n",
              "      <th>26</th>\n",
              "      <td>text-embedding-3-small</td>\n",
              "      <td>1705948997</td>\n",
              "      <td>model</td>\n",
              "      <td>system</td>\n",
              "    </tr>\n",
              "    <tr>\n",
              "      <th>25</th>\n",
              "      <td>text-embedding-ada-002</td>\n",
              "      <td>1671217299</td>\n",
              "      <td>model</td>\n",
              "      <td>openai-internal</td>\n",
              "    </tr>\n",
              "    <tr>\n",
              "      <th>16</th>\n",
              "      <td>tts-1</td>\n",
              "      <td>1681940951</td>\n",
              "      <td>model</td>\n",
              "      <td>openai-internal</td>\n",
              "    </tr>\n",
              "    <tr>\n",
              "      <th>22</th>\n",
              "      <td>tts-1-1106</td>\n",
              "      <td>1699053241</td>\n",
              "      <td>model</td>\n",
              "      <td>system</td>\n",
              "    </tr>\n",
              "    <tr>\n",
              "      <th>8</th>\n",
              "      <td>tts-1-hd</td>\n",
              "      <td>1699046015</td>\n",
              "      <td>model</td>\n",
              "      <td>system</td>\n",
              "    </tr>\n",
              "    <tr>\n",
              "      <th>7</th>\n",
              "      <td>tts-1-hd-1106</td>\n",
              "      <td>1699053533</td>\n",
              "      <td>model</td>\n",
              "      <td>system</td>\n",
              "    </tr>\n",
              "    <tr>\n",
              "      <th>6</th>\n",
              "      <td>whisper-1</td>\n",
              "      <td>1677532384</td>\n",
              "      <td>model</td>\n",
              "      <td>openai-internal</td>\n",
              "    </tr>\n",
              "  </tbody>\n",
              "</table>\n",
              "</div>"
            ],
            "text/plain": [
              "                             id     created object         owned_by\n",
              "19                  babbage-002  1692634615  model           system\n",
              "4                      dall-e-2  1698798177  model           system\n",
              "2                      dall-e-3  1698785189  model           system\n",
              "17                  davinci-002  1692634301  model           system\n",
              "9                 gpt-3.5-turbo  1677610602  model           openai\n",
              "10           gpt-3.5-turbo-0125  1706048358  model           system\n",
              "12           gpt-3.5-turbo-0301  1677649963  model           openai\n",
              "13           gpt-3.5-turbo-0613  1686587434  model           openai\n",
              "1            gpt-3.5-turbo-1106  1698959748  model           system\n",
              "0             gpt-3.5-turbo-16k  1683758102  model  openai-internal\n",
              "3        gpt-3.5-turbo-16k-0613  1685474247  model           openai\n",
              "18       gpt-3.5-turbo-instruct  1692901427  model           system\n",
              "14  gpt-3.5-turbo-instruct-0914  1694122472  model           system\n",
              "15                        gpt-4  1687882411  model           openai\n",
              "23           gpt-4-0125-preview  1706037612  model           system\n",
              "11                   gpt-4-0613  1686588896  model           openai\n",
              "20           gpt-4-1106-preview  1698957206  model           system\n",
              "24          gpt-4-turbo-preview  1706037777  model           system\n",
              "21         gpt-4-vision-preview  1698894917  model           system\n",
              "5        text-embedding-3-large  1705953180  model           system\n",
              "26       text-embedding-3-small  1705948997  model           system\n",
              "25       text-embedding-ada-002  1671217299  model  openai-internal\n",
              "16                        tts-1  1681940951  model  openai-internal\n",
              "22                   tts-1-1106  1699053241  model           system\n",
              "8                      tts-1-hd  1699046015  model           system\n",
              "7                 tts-1-hd-1106  1699053533  model           system\n",
              "6                     whisper-1  1677532384  model  openai-internal"
            ]
          },
          "execution_count": 5,
          "metadata": {},
          "output_type": "execute_result"
        }
      ],
      "source": [
        "import pandas as pd\n",
        "\n",
        "model_data = []\n",
        "\n",
        "# Iterate through each model in elist and collect the required information\n",
        "for model in elist:\n",
        "    model_info = {\n",
        "        'id': model.id,\n",
        "        'created': model.created,\n",
        "        'object': model.object,\n",
        "        'owned_by': model.owned_by\n",
        "    }\n",
        "    model_data.append(model_info)\n",
        "\n",
        "# Create a DataFrame from the collected data\n",
        "df = pd.DataFrame(model_data)\n",
        "\n",
        "# Sort the DataFrame by the 'id' column\n",
        "df_sorted = df.sort_values(by='id')\n",
        "\n",
        "# Display the sorted DataFrame\n",
        "df_sorted"
      ]
    }
  ],
  "metadata": {
    "colab": {
      "authorship_tag": "ABX9TyOxO/8PW03ER59bfZkxUZ9y",
      "provenance": []
    },
    "kernelspec": {
      "display_name": "Python 3",
      "name": "python3"
    },
    "language_info": {
      "codemirror_mode": {
        "name": "ipython",
        "version": 3
      },
      "file_extension": ".py",
      "mimetype": "text/x-python",
      "name": "python",
      "nbconvert_exporter": "python",
      "pygments_lexer": "ipython3",
      "version": "3.11.6"
    }
  },
  "nbformat": 4,
  "nbformat_minor": 0
}
