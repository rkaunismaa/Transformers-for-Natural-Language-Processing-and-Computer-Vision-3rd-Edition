{
  "cells": [
    {
      "cell_type": "markdown",
      "metadata": {
        "id": "PrAz9yqhrnL6"
      },
      "source": [
        "# Transfer Learning with Ada Embeddings\n",
        "copyright 2024, Denis Rothman, MIT License\n",
        "\n",
        "\n",
        "The reference [OpenAI Embedding and Clustering Cookbook](https://github.com/openai/openai-cookbook/blob/main/examples/Clustering.ipynb) was modified by Denis Rothman for educational purposes."
      ]
    },
    {
      "cell_type": "markdown",
      "metadata": {
        "id": "8ubeDLWje39p"
      },
      "source": [
        "# Installing OpenAI"
      ]
    },
    {
      "cell_type": "code",
      "execution_count": 17,
      "metadata": {
        "id": "tU_uX-KCa_KK"
      },
      "outputs": [],
      "source": [
        "try:\n",
        "  import openai\n",
        "except:\n",
        "  !pip install openai==0.28\n",
        "  import openai"
      ]
    },
    {
      "cell_type": "code",
      "execution_count": 18,
      "metadata": {
        "colab": {
          "base_uri": "https://localhost:8080/"
        },
        "id": "M-oZZR__a_sB",
        "outputId": "7dcf59d7-abcd-47ba-e4cb-f1636f624aac"
      },
      "outputs": [
        {
          "name": "stdout",
          "output_type": "stream",
          "text": [
            "Drive already mounted at /content/drive; to attempt to forcibly remount, call drive.mount(\"/content/drive\", force_remount=True).\n"
          ]
        }
      ],
      "source": [
        "from google.colab import drive\n",
        "drive.mount('/content/drive')"
      ]
    },
    {
      "cell_type": "code",
      "execution_count": 19,
      "metadata": {
        "id": "RRBQMmiAbJ7r"
      },
      "outputs": [],
      "source": [
        "f = open(\"drive/MyDrive/files/api_key.txt\", \"r\")\n",
        "API_KEY=f.readline()\n",
        "f.close()"
      ]
    },
    {
      "cell_type": "code",
      "execution_count": 20,
      "metadata": {
        "id": "DLiDECeMbMsu"
      },
      "outputs": [],
      "source": [
        "import os\n",
        "os.environ['OPENAI_API_KEY'] =API_KEY\n",
        "openai.api_key = os.getenv(\"OPENAI_API_KEY\")"
      ]
    },
    {
      "cell_type": "markdown",
      "metadata": {
        "id": "WWUxqGfwjhk0"
      },
      "source": [
        "# Installing tiktoken"
      ]
    },
    {
      "cell_type": "code",
      "execution_count": 21,
      "metadata": {
        "colab": {
          "base_uri": "https://localhost:8080/"
        },
        "id": "zm7_zUuxgPzr",
        "outputId": "f25d9eea-ef79-46c4-86b3-1e875ff78024"
      },
      "outputs": [
        {
          "name": "stdout",
          "output_type": "stream",
          "text": [
            "Requirement already satisfied: tiktoken in /usr/local/lib/python3.10/dist-packages (0.4.0)\n",
            "Requirement already satisfied: regex>=2022.1.18 in /usr/local/lib/python3.10/dist-packages (from tiktoken) (2022.10.31)\n",
            "Requirement already satisfied: requests>=2.26.0 in /usr/local/lib/python3.10/dist-packages (from tiktoken) (2.27.1)\n",
            "Requirement already satisfied: urllib3<1.27,>=1.21.1 in /usr/local/lib/python3.10/dist-packages (from requests>=2.26.0->tiktoken) (1.26.16)\n",
            "Requirement already satisfied: certifi>=2017.4.17 in /usr/local/lib/python3.10/dist-packages (from requests>=2.26.0->tiktoken) (2023.5.7)\n",
            "Requirement already satisfied: charset-normalizer~=2.0.0 in /usr/local/lib/python3.10/dist-packages (from requests>=2.26.0->tiktoken) (2.0.12)\n",
            "Requirement already satisfied: idna<4,>=2.5 in /usr/local/lib/python3.10/dist-packages (from requests>=2.26.0->tiktoken) (3.4)\n"
          ]
        }
      ],
      "source": [
        "!pip install tiktoken"
      ]
    },
    {
      "cell_type": "markdown",
      "metadata": {
        "id": "e0SL9I1XjnGF"
      },
      "source": [
        "# Installing Kaggle"
      ]
    },
    {
      "cell_type": "code",
      "execution_count": 22,
      "metadata": {
        "id": "KNU0N4GSiusu"
      },
      "outputs": [],
      "source": [
        "import json\n",
        "with open(os.path.expanduser(\"drive/MyDrive/files/kaggle.json\"), \"r\") as f:\n",
        "    kaggle_credentials = json.load(f)\n",
        "\n",
        "kaggle_username = kaggle_credentials[\"username\"]\n",
        "kaggle_key = kaggle_credentials[\"key\"]\n",
        "\n",
        "os.environ[\"KAGGLE_USERNAME\"] = kaggle_username\n",
        "os.environ[\"KAGGLE_KEY\"] = kaggle_key"
      ]
    },
    {
      "cell_type": "code",
      "execution_count": 23,
      "metadata": {
        "id": "QpU3TjuwjBfR"
      },
      "outputs": [],
      "source": [
        "try:\n",
        "  import kaggle\n",
        "except:\n",
        "  !pip install kaggle\n",
        "  import kaggle"
      ]
    },
    {
      "cell_type": "code",
      "execution_count": 24,
      "metadata": {
        "id": "gs7YkSkajEzZ"
      },
      "outputs": [],
      "source": [
        "kaggle.api.authenticate()"
      ]
    },
    {
      "cell_type": "markdown",
      "metadata": {
        "id": "KGaay8s1fAOS"
      },
      "source": [
        "# 1.The Amazon Fine Food Reviews Dataset"
      ]
    },
    {
      "cell_type": "markdown",
      "metadata": {
        "id": "nZJv8PeOfJ5o"
      },
      "source": [
        "## 1.1. Download the dataset\n"
      ]
    },
    {
      "cell_type": "markdown",
      "metadata": {
        "id": "EdDt50SciEqZ"
      },
      "source": [
        "### Amazon Fine Food Reviews\n",
        "\n",
        "https://www.kaggle.com/datasets/snap/amazon-fine-food-reviews\n"
      ]
    },
    {
      "cell_type": "code",
      "execution_count": 25,
      "metadata": {
        "colab": {
          "base_uri": "https://localhost:8080/"
        },
        "id": "26i1JaHZiUeK",
        "outputId": "fe5fe6b8-66ca-4f48-a532-d4973a381b46"
      },
      "outputs": [
        {
          "name": "stdout",
          "output_type": "stream",
          "text": [
            "Downloading amazon-fine-food-reviews.zip to /content\n",
            " 99% 239M/242M [00:12<00:00, 19.3MB/s]\n",
            "100% 242M/242M [00:12<00:00, 20.4MB/s]\n"
          ]
        }
      ],
      "source": [
        "!kaggle datasets download -d snap/amazon-fine-food-reviews"
      ]
    },
    {
      "cell_type": "code",
      "execution_count": 26,
      "metadata": {
        "id": "Rs2iBiyHpVXV"
      },
      "outputs": [],
      "source": [
        "import zipfile\n",
        "\n",
        "zip_file_path = '/content/amazon-fine-food-reviews.zip'\n",
        "csv_file_name = 'Reviews.csv'\n",
        "\n",
        "with zipfile.ZipFile(zip_file_path, 'r') as zip_ref:\n",
        "    zip_ref.extract(csv_file_name)"
      ]
    },
    {
      "cell_type": "markdown",
      "metadata": {
        "id": "X-87UNrpjZ9k"
      },
      "source": [
        "##  1.2. Data preparation"
      ]
    },
    {
      "cell_type": "code",
      "execution_count": 27,
      "metadata": {
        "id": "OHT73Eb4fDVj"
      },
      "outputs": [],
      "source": [
        "# imports\n",
        "import pandas as pd\n",
        "import tiktoken\n",
        "\n",
        "from openai.embeddings_utils import get_embedding"
      ]
    },
    {
      "cell_type": "code",
      "execution_count": 28,
      "metadata": {
        "id": "S2BcOSwHfQfa"
      },
      "outputs": [],
      "source": [
        "# embedding model parameters\n",
        "embedding_model = \"text-embedding-ada-002\"\n",
        "embedding_encoding = \"cl100k_base\"  # this is the encoding for text-embedding-ada-002\n",
        "max_tokens = 8000  # the maximum for text-embedding-ada-002 is 8191"
      ]
    },
    {
      "cell_type": "code",
      "execution_count": 29,
      "metadata": {
        "colab": {
          "base_uri": "https://localhost:8080/",
          "height": 1000
        },
        "id": "X6nFUwO_fT-v",
        "outputId": "72bafa51-964a-45e2-82f2-5c84ceff7556"
      },
      "outputs": [
        {
          "data": {
            "text/html": [
              "\n",
              "  <div id=\"df-026933e4-f476-4609-a4dd-3f3aa370572e\">\n",
              "    <div class=\"colab-df-container\">\n",
              "      <div>\n",
              "<style scoped>\n",
              "    .dataframe tbody tr th:only-of-type {\n",
              "        vertical-align: middle;\n",
              "    }\n",
              "\n",
              "    .dataframe tbody tr th {\n",
              "        vertical-align: top;\n",
              "    }\n",
              "\n",
              "    .dataframe thead th {\n",
              "        text-align: right;\n",
              "    }\n",
              "</style>\n",
              "<table border=\"1\" class=\"dataframe\">\n",
              "  <thead>\n",
              "    <tr style=\"text-align: right;\">\n",
              "      <th></th>\n",
              "      <th>Time</th>\n",
              "      <th>ProductId</th>\n",
              "      <th>UserId</th>\n",
              "      <th>Score</th>\n",
              "      <th>Summary</th>\n",
              "      <th>Text</th>\n",
              "      <th>combined</th>\n",
              "    </tr>\n",
              "    <tr>\n",
              "      <th>Id</th>\n",
              "      <th></th>\n",
              "      <th></th>\n",
              "      <th></th>\n",
              "      <th></th>\n",
              "      <th></th>\n",
              "      <th></th>\n",
              "      <th></th>\n",
              "    </tr>\n",
              "  </thead>\n",
              "  <tbody>\n",
              "    <tr>\n",
              "      <th>1</th>\n",
              "      <td>1303862400</td>\n",
              "      <td>B001E4KFG0</td>\n",
              "      <td>A3SGXH7AUHU8GW</td>\n",
              "      <td>5</td>\n",
              "      <td>Good Quality Dog Food</td>\n",
              "      <td>I have bought several of the Vitality canned d...</td>\n",
              "      <td>Title: Good Quality Dog Food; Content: I have ...</td>\n",
              "    </tr>\n",
              "    <tr>\n",
              "      <th>2</th>\n",
              "      <td>1346976000</td>\n",
              "      <td>B00813GRG4</td>\n",
              "      <td>A1D87F6ZCVE5NK</td>\n",
              "      <td>1</td>\n",
              "      <td>Not as Advertised</td>\n",
              "      <td>Product arrived labeled as Jumbo Salted Peanut...</td>\n",
              "      <td>Title: Not as Advertised; Content: Product arr...</td>\n",
              "    </tr>\n",
              "    <tr>\n",
              "      <th>3</th>\n",
              "      <td>1219017600</td>\n",
              "      <td>B000LQOCH0</td>\n",
              "      <td>ABXLMWJIXXAIN</td>\n",
              "      <td>4</td>\n",
              "      <td>\"Delight\" says it all</td>\n",
              "      <td>This is a confection that has been around a fe...</td>\n",
              "      <td>Title: \"Delight\" says it all; Content: This is...</td>\n",
              "    </tr>\n",
              "    <tr>\n",
              "      <th>4</th>\n",
              "      <td>1307923200</td>\n",
              "      <td>B000UA0QIQ</td>\n",
              "      <td>A395BORC6FGVXV</td>\n",
              "      <td>2</td>\n",
              "      <td>Cough Medicine</td>\n",
              "      <td>If you are looking for the secret ingredient i...</td>\n",
              "      <td>Title: Cough Medicine; Content: If you are loo...</td>\n",
              "    </tr>\n",
              "    <tr>\n",
              "      <th>5</th>\n",
              "      <td>1350777600</td>\n",
              "      <td>B006K2ZZ7K</td>\n",
              "      <td>A1UQRSCLF8GW1T</td>\n",
              "      <td>5</td>\n",
              "      <td>Great taffy</td>\n",
              "      <td>Great taffy at a great price.  There was a wid...</td>\n",
              "      <td>Title: Great taffy; Content: Great taffy at a ...</td>\n",
              "    </tr>\n",
              "    <tr>\n",
              "      <th>6</th>\n",
              "      <td>1342051200</td>\n",
              "      <td>B006K2ZZ7K</td>\n",
              "      <td>ADT0SRK1MGOEU</td>\n",
              "      <td>4</td>\n",
              "      <td>Nice Taffy</td>\n",
              "      <td>I got a wild hair for taffy and ordered this f...</td>\n",
              "      <td>Title: Nice Taffy; Content: I got a wild hair ...</td>\n",
              "    </tr>\n",
              "    <tr>\n",
              "      <th>7</th>\n",
              "      <td>1340150400</td>\n",
              "      <td>B006K2ZZ7K</td>\n",
              "      <td>A1SP2KVKFXXRU1</td>\n",
              "      <td>5</td>\n",
              "      <td>Great!  Just as good as the expensive brands!</td>\n",
              "      <td>This saltwater taffy had great flavors and was...</td>\n",
              "      <td>Title: Great!  Just as good as the expensive b...</td>\n",
              "    </tr>\n",
              "    <tr>\n",
              "      <th>8</th>\n",
              "      <td>1336003200</td>\n",
              "      <td>B006K2ZZ7K</td>\n",
              "      <td>A3JRGQVEQN31IQ</td>\n",
              "      <td>5</td>\n",
              "      <td>Wonderful, tasty taffy</td>\n",
              "      <td>This taffy is so good.  It is very soft and ch...</td>\n",
              "      <td>Title: Wonderful, tasty taffy; Content: This t...</td>\n",
              "    </tr>\n",
              "    <tr>\n",
              "      <th>9</th>\n",
              "      <td>1322006400</td>\n",
              "      <td>B000E7L2R4</td>\n",
              "      <td>A1MZYO9TZK0BBI</td>\n",
              "      <td>5</td>\n",
              "      <td>Yay Barley</td>\n",
              "      <td>Right now I'm mostly just sprouting this so my...</td>\n",
              "      <td>Title: Yay Barley; Content: Right now I'm most...</td>\n",
              "    </tr>\n",
              "    <tr>\n",
              "      <th>10</th>\n",
              "      <td>1351209600</td>\n",
              "      <td>B00171APVA</td>\n",
              "      <td>A21BT40VZCCYT4</td>\n",
              "      <td>5</td>\n",
              "      <td>Healthy Dog Food</td>\n",
              "      <td>This is a very healthy dog food. Good for thei...</td>\n",
              "      <td>Title: Healthy Dog Food; Content: This is a ve...</td>\n",
              "    </tr>\n",
              "  </tbody>\n",
              "</table>\n",
              "</div>\n",
              "      <button class=\"colab-df-convert\" onclick=\"convertToInteractive('df-026933e4-f476-4609-a4dd-3f3aa370572e')\"\n",
              "              title=\"Convert this dataframe to an interactive table.\"\n",
              "              style=\"display:none;\">\n",
              "        \n",
              "  <svg xmlns=\"http://www.w3.org/2000/svg\" height=\"24px\"viewBox=\"0 0 24 24\"\n",
              "       width=\"24px\">\n",
              "    <path d=\"M0 0h24v24H0V0z\" fill=\"none\"/>\n",
              "    <path d=\"M18.56 5.44l.94 2.06.94-2.06 2.06-.94-2.06-.94-.94-2.06-.94 2.06-2.06.94zm-11 1L8.5 8.5l.94-2.06 2.06-.94-2.06-.94L8.5 2.5l-.94 2.06-2.06.94zm10 10l.94 2.06.94-2.06 2.06-.94-2.06-.94-.94-2.06-.94 2.06-2.06.94z\"/><path d=\"M17.41 7.96l-1.37-1.37c-.4-.4-.92-.59-1.43-.59-.52 0-1.04.2-1.43.59L10.3 9.45l-7.72 7.72c-.78.78-.78 2.05 0 2.83L4 21.41c.39.39.9.59 1.41.59.51 0 1.02-.2 1.41-.59l7.78-7.78 2.81-2.81c.8-.78.8-2.07 0-2.86zM5.41 20L4 18.59l7.72-7.72 1.47 1.35L5.41 20z\"/>\n",
              "  </svg>\n",
              "      </button>\n",
              "      \n",
              "  <style>\n",
              "    .colab-df-container {\n",
              "      display:flex;\n",
              "      flex-wrap:wrap;\n",
              "      gap: 12px;\n",
              "    }\n",
              "\n",
              "    .colab-df-convert {\n",
              "      background-color: #E8F0FE;\n",
              "      border: none;\n",
              "      border-radius: 50%;\n",
              "      cursor: pointer;\n",
              "      display: none;\n",
              "      fill: #1967D2;\n",
              "      height: 32px;\n",
              "      padding: 0 0 0 0;\n",
              "      width: 32px;\n",
              "    }\n",
              "\n",
              "    .colab-df-convert:hover {\n",
              "      background-color: #E2EBFA;\n",
              "      box-shadow: 0px 1px 2px rgba(60, 64, 67, 0.3), 0px 1px 3px 1px rgba(60, 64, 67, 0.15);\n",
              "      fill: #174EA6;\n",
              "    }\n",
              "\n",
              "    [theme=dark] .colab-df-convert {\n",
              "      background-color: #3B4455;\n",
              "      fill: #D2E3FC;\n",
              "    }\n",
              "\n",
              "    [theme=dark] .colab-df-convert:hover {\n",
              "      background-color: #434B5C;\n",
              "      box-shadow: 0px 1px 3px 1px rgba(0, 0, 0, 0.15);\n",
              "      filter: drop-shadow(0px 1px 2px rgba(0, 0, 0, 0.3));\n",
              "      fill: #FFFFFF;\n",
              "    }\n",
              "  </style>\n",
              "\n",
              "      <script>\n",
              "        const buttonEl =\n",
              "          document.querySelector('#df-026933e4-f476-4609-a4dd-3f3aa370572e button.colab-df-convert');\n",
              "        buttonEl.style.display =\n",
              "          google.colab.kernel.accessAllowed ? 'block' : 'none';\n",
              "\n",
              "        async function convertToInteractive(key) {\n",
              "          const element = document.querySelector('#df-026933e4-f476-4609-a4dd-3f3aa370572e');\n",
              "          const dataTable =\n",
              "            await google.colab.kernel.invokeFunction('convertToInteractive',\n",
              "                                                     [key], {});\n",
              "          if (!dataTable) return;\n",
              "\n",
              "          const docLinkHtml = 'Like what you see? Visit the ' +\n",
              "            '<a target=\"_blank\" href=https://colab.research.google.com/notebooks/data_table.ipynb>data table notebook</a>'\n",
              "            + ' to learn more about interactive tables.';\n",
              "          element.innerHTML = '';\n",
              "          dataTable['output_type'] = 'display_data';\n",
              "          await google.colab.output.renderOutput(dataTable, element);\n",
              "          const docLink = document.createElement('div');\n",
              "          docLink.innerHTML = docLinkHtml;\n",
              "          element.appendChild(docLink);\n",
              "        }\n",
              "      </script>\n",
              "    </div>\n",
              "  </div>\n",
              "  "
            ],
            "text/plain": [
              "          Time   ProductId          UserId  Score  \\\n",
              "Id                                                  \n",
              "1   1303862400  B001E4KFG0  A3SGXH7AUHU8GW      5   \n",
              "2   1346976000  B00813GRG4  A1D87F6ZCVE5NK      1   \n",
              "3   1219017600  B000LQOCH0   ABXLMWJIXXAIN      4   \n",
              "4   1307923200  B000UA0QIQ  A395BORC6FGVXV      2   \n",
              "5   1350777600  B006K2ZZ7K  A1UQRSCLF8GW1T      5   \n",
              "6   1342051200  B006K2ZZ7K   ADT0SRK1MGOEU      4   \n",
              "7   1340150400  B006K2ZZ7K  A1SP2KVKFXXRU1      5   \n",
              "8   1336003200  B006K2ZZ7K  A3JRGQVEQN31IQ      5   \n",
              "9   1322006400  B000E7L2R4  A1MZYO9TZK0BBI      5   \n",
              "10  1351209600  B00171APVA  A21BT40VZCCYT4      5   \n",
              "\n",
              "                                          Summary  \\\n",
              "Id                                                  \n",
              "1                           Good Quality Dog Food   \n",
              "2                               Not as Advertised   \n",
              "3                           \"Delight\" says it all   \n",
              "4                                  Cough Medicine   \n",
              "5                                     Great taffy   \n",
              "6                                      Nice Taffy   \n",
              "7   Great!  Just as good as the expensive brands!   \n",
              "8                          Wonderful, tasty taffy   \n",
              "9                                      Yay Barley   \n",
              "10                               Healthy Dog Food   \n",
              "\n",
              "                                                 Text  \\\n",
              "Id                                                      \n",
              "1   I have bought several of the Vitality canned d...   \n",
              "2   Product arrived labeled as Jumbo Salted Peanut...   \n",
              "3   This is a confection that has been around a fe...   \n",
              "4   If you are looking for the secret ingredient i...   \n",
              "5   Great taffy at a great price.  There was a wid...   \n",
              "6   I got a wild hair for taffy and ordered this f...   \n",
              "7   This saltwater taffy had great flavors and was...   \n",
              "8   This taffy is so good.  It is very soft and ch...   \n",
              "9   Right now I'm mostly just sprouting this so my...   \n",
              "10  This is a very healthy dog food. Good for thei...   \n",
              "\n",
              "                                             combined  \n",
              "Id                                                     \n",
              "1   Title: Good Quality Dog Food; Content: I have ...  \n",
              "2   Title: Not as Advertised; Content: Product arr...  \n",
              "3   Title: \"Delight\" says it all; Content: This is...  \n",
              "4   Title: Cough Medicine; Content: If you are loo...  \n",
              "5   Title: Great taffy; Content: Great taffy at a ...  \n",
              "6   Title: Nice Taffy; Content: I got a wild hair ...  \n",
              "7   Title: Great!  Just as good as the expensive b...  \n",
              "8   Title: Wonderful, tasty taffy; Content: This t...  \n",
              "9   Title: Yay Barley; Content: Right now I'm most...  \n",
              "10  Title: Healthy Dog Food; Content: This is a ve...  "
            ]
          },
          "execution_count": 29,
          "metadata": {},
          "output_type": "execute_result"
        }
      ],
      "source": [
        "# load & inspect dataset\n",
        "input_datapath = \"/content/Reviews.csv\"  # to save space, we provide a pre-filtered dataset\n",
        "df = pd.read_csv(input_datapath, index_col=0)\n",
        "df = df[[\"Time\", \"ProductId\", \"UserId\", \"Score\", \"Summary\", \"Text\"]]\n",
        "df = df.dropna()\n",
        "df[\"combined\"] = (\n",
        "    \"Title: \" + df.Summary.str.strip() + \"; Content: \" + df.Text.str.strip()\n",
        ")\n",
        "df.head(10)"
      ]
    },
    {
      "cell_type": "code",
      "execution_count": 30,
      "metadata": {
        "colab": {
          "base_uri": "https://localhost:8080/"
        },
        "id": "Y37hFrtqfXHR",
        "outputId": "c953f51b-6b89-48bf-ffc6-c2078db7bde6"
      },
      "outputs": [
        {
          "data": {
            "text/plain": [
              "1000"
            ]
          },
          "execution_count": 30,
          "metadata": {},
          "output_type": "execute_result"
        }
      ],
      "source": [
        "# sub sample to 1k most recent reviews and remove samples that are too long\n",
        "top_n = 1000\n",
        "df = df.sort_values(\"Time\").tail(top_n * 2)  # first cut to first 2k entries, assuming less than half will be filtered out\n",
        "df.drop(\"Time\", axis=1, inplace=True)\n",
        "\n",
        "encoding = tiktoken.get_encoding(embedding_encoding)\n",
        "\n",
        "# omit reviews that are too long to embed\n",
        "df[\"n_tokens\"] = df.combined.apply(lambda x: len(encoding.encode(x)))\n",
        "df = df[df.n_tokens <= max_tokens].tail(top_n)\n",
        "len(df)"
      ]
    },
    {
      "cell_type": "markdown",
      "metadata": {
        "id": "EBL_RfNHfdPT"
      },
      "source": [
        "# 2.Running Ada embeddings and saved for future reuse"
      ]
    },
    {
      "cell_type": "code",
      "execution_count": 31,
      "metadata": {
        "id": "jrsgyEh_fZ3I"
      },
      "outputs": [],
      "source": [
        "# Ensure you have your API key set in your environment per the README: https://github.com/openai/openai-python#usage\n",
        "\n",
        "# This may take a few minutes\n",
        "df[\"embedding\"] = df.combined.apply(lambda x: get_embedding(x, engine=embedding_model))\n",
        "df.to_csv(\"fine_food_reviews_with_embeddings_1k.csv\")"
      ]
    },
    {
      "cell_type": "markdown",
      "metadata": {
        "id": "mbytX_Mcssh7"
      },
      "source": [
        "## Save the embeddings to Google Drive or another location"
      ]
    },
    {
      "cell_type": "code",
      "execution_count": 32,
      "metadata": {
        "id": "OpPti4DbszYg"
      },
      "outputs": [],
      "source": [
        "#f = open(\"drive/MyDrive/files/api_key.txt\", \"r\")\n",
        "!cp /content/fine_food_reviews_with_embeddings_1k.csv drive/MyDrive/files/fine_food_reviews_with_embeddings_1k.csv"
      ]
    },
    {
      "cell_type": "markdown",
      "metadata": {
        "id": "sP0dJxtLZkFg"
      },
      "source": [
        "# 3.Clustering\n",
        "\n",
        "We use a simple k-means algorithm to demonstrate how clustering can be done. Clustering can help discover valuable, hidden groupings within the data. The dataset is created in the [Obtain_dataset Notebook](Obtain_dataset.ipynb)."
      ]
    },
    {
      "cell_type": "code",
      "execution_count": 33,
      "metadata": {
        "colab": {
          "base_uri": "https://localhost:8080/"
        },
        "id": "B4zeSTmMZkFm",
        "outputId": "33110400-2cd5-41d0-fdc9-61db68b3e738"
      },
      "outputs": [
        {
          "name": "stderr",
          "output_type": "stream",
          "text": [
            "<ipython-input-33-cef2d1d77f6f>:10: FutureWarning: The error_bad_lines argument has been deprecated and will be removed in a future version. Use on_bad_lines in the future.\n",
            "\n",
            "\n",
            "  df = pd.read_csv('fine_food_reviews_with_embeddings_1k.csv', error_bad_lines=False)\n"
          ]
        },
        {
          "name": "stdout",
          "output_type": "stream",
          "text": [
            "Number of bad lines: 1\n"
          ]
        },
        {
          "data": {
            "text/plain": [
              "(1000, 1536)"
            ]
          },
          "execution_count": 33,
          "metadata": {},
          "output_type": "execute_result"
        }
      ],
      "source": [
        "# imports\n",
        "import numpy as np\n",
        "import pandas as pd\n",
        "\n",
        "# load data\n",
        "datafile_path = \"fine_food_reviews_with_embeddings_1k.csv\"\n",
        "\n",
        "#df = pd.read_csv(datafile_path)\n",
        "# read the csv file skipping bad lines\n",
        "df = pd.read_csv('fine_food_reviews_with_embeddings_1k.csv', error_bad_lines=False)\n",
        "\n",
        "# count number of lines in the dataframe\n",
        "df_line_count = len(df)\n",
        "\n",
        "# count total lines in the csv file\n",
        "with open('fine_food_reviews_with_embeddings_1k.csv') as f:\n",
        "    total_line_count = sum(1 for _ in enumerate(f))\n",
        "\n",
        "# calculate number of bad lines\n",
        "bad_lines = total_line_count - df_line_count\n",
        "print(f'Number of bad lines: {bad_lines}')\n",
        "\n",
        "\n",
        "\n",
        "df[\"embedding\"] = df.embedding.apply(eval).apply(np.array)  # convert string to numpy array\n",
        "matrix = np.vstack(df.embedding.values)\n",
        "matrix.shape\n"
      ]
    },
    {
      "cell_type": "markdown",
      "metadata": {
        "id": "37jjY_NKZkFp"
      },
      "source": [
        "### 3.1. Find the clusters using K-means"
      ]
    },
    {
      "cell_type": "markdown",
      "metadata": {
        "id": "8ZWUYgQ5ZkFq"
      },
      "source": [
        "We show the simplest use of K-means. You can pick the number of clusters that fits your use case best."
      ]
    },
    {
      "cell_type": "code",
      "execution_count": 34,
      "metadata": {
        "colab": {
          "base_uri": "https://localhost:8080/"
        },
        "id": "JC8UGDkdZkFq",
        "outputId": "2f24c143-06e4-4648-fb07-1efa424adbb3"
      },
      "outputs": [
        {
          "data": {
            "text/plain": [
              "Cluster\n",
              "2    4.081560\n",
              "1    4.191176\n",
              "0    4.221805\n",
              "3    4.344937\n",
              "Name: Score, dtype: float64"
            ]
          },
          "execution_count": 34,
          "metadata": {},
          "output_type": "execute_result"
        }
      ],
      "source": [
        "from sklearn.cluster import KMeans\n",
        "\n",
        "n_clusters = 4\n",
        "\n",
        "kmeans = KMeans(n_clusters=n_clusters, init=\"k-means++\", n_init=10,random_state=42)\n",
        "kmeans.fit(matrix)\n",
        "labels = kmeans.labels_\n",
        "df[\"Cluster\"] = labels\n",
        "\n",
        "df.groupby(\"Cluster\").Score.mean().sort_values()\n"
      ]
    },
    {
      "cell_type": "markdown",
      "metadata": {
        "id": "IR6h1p-qGfCr"
      },
      "source": [
        "### 3.2.Display Clusters with T-SNE"
      ]
    },
    {
      "cell_type": "code",
      "execution_count": 35,
      "metadata": {
        "colab": {
          "base_uri": "https://localhost:8080/",
          "height": 469
        },
        "id": "G3M3AQsuZkFr",
        "outputId": "903d3f8f-4aa4-4d44-dba6-da7e6e3be46f"
      },
      "outputs": [
        {
          "data": {
            "text/plain": [
              "Text(0.5, 1.0, 'Clusters identified visualized in language 2d using t-SNE')"
            ]
          },
          "execution_count": 35,
          "metadata": {},
          "output_type": "execute_result"
        },
        {
          "data": {
            "image/png": "[encoded data removed]",
            "text/plain": [
              "<Figure size 640x480 with 1 Axes>"
            ]
          },
          "metadata": {},
          "output_type": "display_data"
        }
      ],
      "source": [
        "from sklearn.manifold import TSNE\n",
        "import matplotlib\n",
        "import matplotlib.pyplot as plt\n",
        "\n",
        "tsne = TSNE(n_components=2, perplexity=15, random_state=42, init=\"random\", learning_rate=200)\n",
        "vis_dims2 = tsne.fit_transform(matrix)\n",
        "\n",
        "x = [x for x, y in vis_dims2]\n",
        "y = [y for x, y in vis_dims2]\n",
        "\n",
        "for category, color in enumerate([\"purple\", \"green\", \"red\", \"blue\"]):\n",
        "    xs = np.array(x)[df.Cluster == category]\n",
        "    ys = np.array(y)[df.Cluster == category]\n",
        "    plt.scatter(xs, ys, color=color, alpha=0.3)\n",
        "\n",
        "    avg_x = xs.mean()\n",
        "    avg_y = ys.mean()\n",
        "\n",
        "    plt.scatter(avg_x, avg_y, marker=\"x\", color=color, s=100)\n",
        "plt.title(\"Clusters identified visualized in language 2d using t-SNE\")\n"
      ]
    },
    {
      "cell_type": "markdown",
      "metadata": {
        "id": "3G_ZNBd8ZkFs"
      },
      "source": [
        "Visualization of clusters in a 2d projection. In this run, the green cluster (#1) seems quite different from the others. Let's see a few samples from each cluster."
      ]
    },
    {
      "cell_type": "markdown",
      "metadata": {
        "id": "LSVAHKyxZkFs"
      },
      "source": [
        "# 4.Text samples in the clusters & naming the clusters\n",
        "\n",
        "Let's show random samples from each cluster. We'll use davinci-002 to name the clusters, based on a random sample of 5 reviews from that cluster."
      ]
    },
    {
      "cell_type": "code",
      "execution_count": 36,
      "metadata": {
        "colab": {
          "base_uri": "https://localhost:8080/"
        },
        "id": "KdZcBgAOZkFt",
        "outputId": "9da48178-f903-4dbf-8456-106d5d5d2d17"
      },
      "outputs": [
        {
          "name": "stdout",
          "output_type": "stream",
          "text": [
            "Cluster 0 Theme:  All of the reviews are positive and discuss the quality of the tea.\n",
            "5, breakfast tea:   We switch to this decaf tea at night for a great cup of tea and no sle\n",
            "5, It is awesome.:   My partner is very happy with the tea, and is feeling much better sinc\n",
            "4, Chike!:   Just tried the orange and iced coffee this morning and really liked th\n",
            "5, FAVORITE tea...:   Lipton makes the BEST French Vanilla tea...I have tried others and thi\n",
            "5, Twinings---a good cup of tea:   I have been drinking Twining's tea for years.  It used to be made in E\n",
            "----------------------------------------------------------------------------------------------------\n",
            "Cluster 1 Theme:  All of the reviews are positive and discuss the benefits of the product.\n",
            "5, Dogs love it.:   This is the \"all gone\" treat after dinner.  It's the only treat that t\n",
            "2, Triggered strange vomit response to my dog:   I can't deny that these smell amazing- all the fruitables that I order\n",
            "4, Very convenient:   Before I order anything online, I try to research as much as possible.\n",
            "5, These are excellent and excellent $$$$ here at Amazon:   This Old Dawg [Chihuahua] has been eating these for years [Bacon Strip\n",
            "4, Great food!:   I wanted a food for a a dog with skin problems. His skin greatly impro\n",
            "----------------------------------------------------------------------------------------------------\n",
            "Cluster 2 Theme:  All of the reviews are positive and mention the quality of the product, the convenience of ordering, and the health benefits of the product.\n",
            "5, Good quality, fast delivery:   I bought these to make homemade vanilla.  The quality of beans was ver\n",
            "5, Sadly I can't find this product anymore!:   These were great healthy crackers from Costco-  But they seemed to hav\n",
            "5, Gluten Free Kid:   We LOVE Lucy's cookies!  The Maple Bliss are wonderful, just too bad t\n",
            "5, Loved these gluten free healthy bars, saved $$ ordering on Amazon:   These Kind Bars are so good and healthy & gluten free.  My daughter ca\n",
            "5, All Around Great!!!!:   The almonds taste great. The dark chocolate coated on the almonds make\n",
            "----------------------------------------------------------------------------------------------------\n",
            "Cluster 3 Theme:  All of the reviews are positive and express satisfaction with the product or service.\n",
            "5, Love this faucet:   Love this faucet.  My husband had installed the same one in our old ho\n",
            "4, Fine for a microwave dinner:   The Barilla Mezze Penne with spicy marinara sauce is easy to prepare a\n",
            "3, Ok but not what I thought:   This is basically split peas, lentils and small soup pasta.  I guess I\n",
            "5, Excellent but Price?:   I first heard about this on America's Test Kitchen where it won a blin\n",
            "5, So fresh with NO PRESERVATIVES perfect for my baby:   I am a proud moma to a not so healthy baby and finding clean food that\n",
            "----------------------------------------------------------------------------------------------------\n"
          ]
        }
      ],
      "source": [
        "import openai\n",
        "\n",
        "# Reading a review that belongs to each group.\n",
        "rev_per_cluster = 5\n",
        "\n",
        "for i in range(n_clusters):\n",
        "    print(f\"Cluster {i} Theme:\", end=\" \")\n",
        "\n",
        "    reviews = \"\\n\".join(\n",
        "        df[df.Cluster == i]\n",
        "        .combined.str.replace(\"Title: \", \"\")\n",
        "        .str.replace(\"\\n\\nContent: \", \":  \")\n",
        "        .sample(rev_per_cluster, random_state=42)\n",
        "        .values\n",
        "    )\n",
        "    response = openai.Completion.create(\n",
        "        engine=\"davinci-002\",\n",
        "        prompt=f'What do the following customer reviews have in common?\\n\\nCustomer reviews:\\n\"\"\"\\n{reviews}\\n\"\"\"\\n\\nTheme:',\n",
        "        temperature=0,\n",
        "        max_tokens=64,\n",
        "        top_p=1,\n",
        "        frequency_penalty=0,\n",
        "        presence_penalty=0,\n",
        "    )\n",
        "    print(response[\"choices\"][0][\"text\"].replace(\"\\n\", \"\"))\n",
        "\n",
        "    sample_cluster_rows = df[df.Cluster == i].sample(rev_per_cluster, random_state=42)\n",
        "    for j in range(rev_per_cluster):\n",
        "        print(sample_cluster_rows.Score.values[j], end=\", \")\n",
        "        print(sample_cluster_rows.Summary.values[j], end=\":   \")\n",
        "        print(sample_cluster_rows.Text.str[:70].values[j])\n",
        "\n",
        "    print(\"-\" * 100)\n"
      ]
    },
    {
      "cell_type": "markdown",
      "metadata": {
        "id": "AfVGmiJ8ZkFu"
      },
      "source": [
        "It's important to note that clusters will not necessarily match what you intend to use them for. A larger amount of clusters will focus on more specific patterns, whereas a small number of clusters will usually focus on largest discrepencies in the data."
      ]
    }
  ],
  "metadata": {
    "accelerator": "GPU",
    "colab": {
      "gpuType": "A100",
      "machine_shape": "hm",
      "provenance": [],
      "toc_visible": true
    },
    "kernelspec": {
      "display_name": "Python 3",
      "name": "python3"
    },
    "language_info": {
      "codemirror_mode": {
        "name": "ipython",
        "version": 3
      },
      "file_extension": ".py",
      "mimetype": "text/x-python",
      "name": "python",
      "nbconvert_exporter": "python",
      "pygments_lexer": "ipython3",
      "version": "3.9.9"
    },
    "orig_nbformat": 4,
    "vscode": {
      "interpreter": {
        "hash": "365536dcbde60510dc9073d6b991cd35db2d9bac356a11f5b64279a5e6708b97"
      }
    }
  },
  "nbformat": 4,
  "nbformat_minor": 0
}
